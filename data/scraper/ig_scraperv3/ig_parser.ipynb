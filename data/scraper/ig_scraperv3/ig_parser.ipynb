{
 "cells": [
  {
   "cell_type": "markdown",
   "metadata": {},
   "source": [
    "#### Desired data pairs and metadata"
   ]
  },
  {
   "cell_type": "code",
   "execution_count": 19,
   "metadata": {},
   "outputs": [],
   "source": [
    "import jmespath\n",
    "import json\n",
    "import os\n",
    "import sys\n",
    "\n",
    "# Load the JSON file\n",
    "def load_json_file(file_path):\n",
    "    if not os.path.exists(file_path):\n",
    "        print(f\"File {file_path} does not exist.\")\n",
    "        sys.exit(1)\n",
    "\n",
    "    with open(file_path, 'r') as file:\n",
    "        try:\n",
    "            data = json.load(file)\n",
    "            return data\n",
    "        except json.JSONDecodeError as e:\n",
    "            print(f\"Error decoding JSON from file {file_path}: {e}\")\n",
    "            sys.exit(1)\n",
    "\n",
    "# Parse a single Instagram post (items[0]) using jmespath\n",
    "def parse_post_json(data: dict) -> dict:\n",
    "    return jmespath.search(\n",
    "        \"\"\"{\n",
    "            shortcode: code,\n",
    "            caption: caption.text,\n",
    "            head_image_url: image_versions2.candidates[0].url,\n",
    "            audio_type: music_metadata.audio_type,\n",
    "            music_title: music_metadata.music_info.music_asset_info.title,\n",
    "            music_artist: music_metadata.music_info.music_asset_info.display_artist\n",
    "        }\"\"\",\n",
    "        data,\n",
    "    )\n",
    "\n",
    "# Extract all parsed posts from a combined user-post JSON\n",
    "def extract_all_posts(json_data: dict):\n",
    "    parsed_posts = []\n",
    "\n",
    "    for username, posts_dict in json_data.items():\n",
    "        for post_url, post_data in posts_dict.items():\n",
    "            items = post_data.get(\"items\", [])\n",
    "            if items:  # Only if not empty\n",
    "                parsed = parse_post_json(items[0])\n",
    "                if parsed:\n",
    "                    parsed[\"username\"] = username  # Add source username\n",
    "                    parsed_posts.append(parsed)\n",
    "\n",
    "    return parsed_posts\n"
   ]
  },
  {
   "cell_type": "code",
   "execution_count": 20,
   "metadata": {},
   "outputs": [],
   "source": [
    "# Load file\n",
    "raw_json_data = load_json_file(\"json/all_instagram_data.json\")\n",
    "\n",
    "# Parse all valid posts\n",
    "parsed_posts = extract_all_posts(raw_json_data)"
   ]
  },
  {
   "cell_type": "code",
   "execution_count": 21,
   "metadata": {},
   "outputs": [
    {
     "data": {
      "text/plain": [
       "1919"
      ]
     },
     "execution_count": 21,
     "metadata": {},
     "output_type": "execute_result"
    }
   ],
   "source": [
    "import pandas as pd\n",
    "\n",
    "df = pd.DataFrame(parsed_posts)\n",
    "len(df)"
   ]
  },
  {
   "cell_type": "code",
   "execution_count": 22,
   "metadata": {},
   "outputs": [
    {
     "data": {
      "text/html": [
       "<div>\n",
       "<style scoped>\n",
       "    .dataframe tbody tr th:only-of-type {\n",
       "        vertical-align: middle;\n",
       "    }\n",
       "\n",
       "    .dataframe tbody tr th {\n",
       "        vertical-align: top;\n",
       "    }\n",
       "\n",
       "    .dataframe thead th {\n",
       "        text-align: right;\n",
       "    }\n",
       "</style>\n",
       "<table border=\"1\" class=\"dataframe\">\n",
       "  <thead>\n",
       "    <tr style=\"text-align: right;\">\n",
       "      <th></th>\n",
       "      <th>shortcode</th>\n",
       "      <th>head_image_url</th>\n",
       "      <th>music_title</th>\n",
       "      <th>music_artist</th>\n",
       "    </tr>\n",
       "  </thead>\n",
       "  <tbody>\n",
       "    <tr>\n",
       "      <th>81</th>\n",
       "      <td>DHqyEKlx45m</td>\n",
       "      <td>https://scontent-lax3-1.cdninstagram.com/v/t51...</td>\n",
       "      <td>Call Me When You Break Up</td>\n",
       "      <td>Selena Gomez, benny blanco, Gracie Abrams</td>\n",
       "    </tr>\n",
       "    <tr>\n",
       "      <th>92</th>\n",
       "      <td>DHKpuJEtril</td>\n",
       "      <td>https://scontent-lax3-2.cdninstagram.com/v/t51...</td>\n",
       "      <td>Sunset Blvd</td>\n",
       "      <td>Selena Gomez, benny blanco</td>\n",
       "    </tr>\n",
       "    <tr>\n",
       "      <th>104</th>\n",
       "      <td>C6bGvvzvQma</td>\n",
       "      <td>https://scontent-lax3-1.cdninstagram.com/v/t51...</td>\n",
       "      <td>Perfect</td>\n",
       "      <td>Ed Sheeran</td>\n",
       "    </tr>\n",
       "    <tr>\n",
       "      <th>107</th>\n",
       "      <td>C0vRPnvoIAa</td>\n",
       "      <td>https://scontent-lax3-1.cdninstagram.com/v/t51...</td>\n",
       "      <td>Those Eyes</td>\n",
       "      <td>New West</td>\n",
       "    </tr>\n",
       "    <tr>\n",
       "      <th>165</th>\n",
       "      <td>C_gUrFoSjoi</td>\n",
       "      <td>https://scontent-lax3-1.cdninstagram.com/v/t51...</td>\n",
       "      <td>I've Been In Love (feat. Channel Tres)</td>\n",
       "      <td>Jungle</td>\n",
       "    </tr>\n",
       "    <tr>\n",
       "      <th>...</th>\n",
       "      <td>...</td>\n",
       "      <td>...</td>\n",
       "      <td>...</td>\n",
       "      <td>...</td>\n",
       "    </tr>\n",
       "    <tr>\n",
       "      <th>1731</th>\n",
       "      <td>CwwST_HrON3</td>\n",
       "      <td>https://scontent-lax3-1.cdninstagram.com/v/t51...</td>\n",
       "      <td>Dark Red</td>\n",
       "      <td>Steve Lacy</td>\n",
       "    </tr>\n",
       "    <tr>\n",
       "      <th>1772</th>\n",
       "      <td>DIMr8d_hWk5</td>\n",
       "      <td>https://scontent-lax3-2.cdninstagram.com/v/t51...</td>\n",
       "      <td>Where Roses Bloom (Voice Memo Clip)</td>\n",
       "      <td>Teesa</td>\n",
       "    </tr>\n",
       "    <tr>\n",
       "      <th>1789</th>\n",
       "      <td>DBy1OUOhHEi</td>\n",
       "      <td>https://scontent-lax3-2.cdninstagram.com/v/t51...</td>\n",
       "      <td></td>\n",
       "      <td></td>\n",
       "    </tr>\n",
       "    <tr>\n",
       "      <th>1824</th>\n",
       "      <td>C9ASY71hDTo</td>\n",
       "      <td>https://scontent-lax3-2.cdninstagram.com/v/t39...</td>\n",
       "      <td>Dreamer's Path</td>\n",
       "      <td>James Quinn</td>\n",
       "    </tr>\n",
       "    <tr>\n",
       "      <th>1876</th>\n",
       "      <td>CzybwmqhZ-U</td>\n",
       "      <td>https://scontent-lax3-2.cdninstagram.com/v/t39...</td>\n",
       "      <td>Perfect Night</td>\n",
       "      <td>LE SSERAFIM</td>\n",
       "    </tr>\n",
       "  </tbody>\n",
       "</table>\n",
       "<p>809 rows × 4 columns</p>\n",
       "</div>"
      ],
      "text/plain": [
       "        shortcode                                     head_image_url  \\\n",
       "81    DHqyEKlx45m  https://scontent-lax3-1.cdninstagram.com/v/t51...   \n",
       "92    DHKpuJEtril  https://scontent-lax3-2.cdninstagram.com/v/t51...   \n",
       "104   C6bGvvzvQma  https://scontent-lax3-1.cdninstagram.com/v/t51...   \n",
       "107   C0vRPnvoIAa  https://scontent-lax3-1.cdninstagram.com/v/t51...   \n",
       "165   C_gUrFoSjoi  https://scontent-lax3-1.cdninstagram.com/v/t51...   \n",
       "...           ...                                                ...   \n",
       "1731  CwwST_HrON3  https://scontent-lax3-1.cdninstagram.com/v/t51...   \n",
       "1772  DIMr8d_hWk5  https://scontent-lax3-2.cdninstagram.com/v/t51...   \n",
       "1789  DBy1OUOhHEi  https://scontent-lax3-2.cdninstagram.com/v/t51...   \n",
       "1824  C9ASY71hDTo  https://scontent-lax3-2.cdninstagram.com/v/t39...   \n",
       "1876  CzybwmqhZ-U  https://scontent-lax3-2.cdninstagram.com/v/t39...   \n",
       "\n",
       "                                 music_title  \\\n",
       "81                 Call Me When You Break Up   \n",
       "92                               Sunset Blvd   \n",
       "104                                  Perfect   \n",
       "107                               Those Eyes   \n",
       "165   I've Been In Love (feat. Channel Tres)   \n",
       "...                                      ...   \n",
       "1731                                Dark Red   \n",
       "1772     Where Roses Bloom (Voice Memo Clip)   \n",
       "1789                                           \n",
       "1824                          Dreamer's Path   \n",
       "1876                           Perfect Night   \n",
       "\n",
       "                                   music_artist  \n",
       "81    Selena Gomez, benny blanco, Gracie Abrams  \n",
       "92                   Selena Gomez, benny blanco  \n",
       "104                                  Ed Sheeran  \n",
       "107                                    New West  \n",
       "165                                      Jungle  \n",
       "...                                         ...  \n",
       "1731                                 Steve Lacy  \n",
       "1772                                      Teesa  \n",
       "1789                                             \n",
       "1824                                James Quinn  \n",
       "1876                                LE SSERAFIM  \n",
       "\n",
       "[809 rows x 4 columns]"
      ]
     },
     "execution_count": 22,
     "metadata": {},
     "output_type": "execute_result"
    }
   ],
   "source": [
    "# for all \"None\" on audio type, remove them\n",
    "df = df[df['audio_type'] == 'licensed_music']\n",
    "\n",
    "# remove id, caption, audio type, \n",
    "df = df.drop(columns=['username', 'caption', 'audio_type'])\n",
    "\n",
    "df"
   ]
  },
  {
   "cell_type": "code",
   "execution_count": 23,
   "metadata": {},
   "outputs": [],
   "source": [
    "# \n",
    "df_old = pd.read_csv(\"csv/all_instagram_data.csv\")\n",
    "\n",
    "# concat\n",
    "df = pd.concat([df_old, df], ignore_index=True)\n",
    "\n",
    "\n",
    "\n"
   ]
  },
  {
   "cell_type": "code",
   "execution_count": 24,
   "metadata": {},
   "outputs": [
    {
     "name": "stdout",
     "output_type": "stream",
     "text": [
      "Duplicates found:\n",
      "        shortcode                                     head_image_url  \\\n",
      "0     DHqyEKlx45m  https://scontent-lax3-1.cdninstagram.com/v/t51...   \n",
      "1     DHKpuJEtril  https://scontent-lax3-2.cdninstagram.com/v/t51...   \n",
      "2     C6bGvvzvQma  https://scontent-lax3-1.cdninstagram.com/v/t51...   \n",
      "3     C0vRPnvoIAa  https://scontent-lax3-1.cdninstagram.com/v/t51...   \n",
      "4     C_gUrFoSjoi  https://scontent-lax3-1.cdninstagram.com/v/t51...   \n",
      "...           ...                                                ...   \n",
      "1687  C4PUrYLty_Q  https://scontent-lax3-2.cdninstagram.com/v/t39...   \n",
      "1688  CwwST_HrON3  https://scontent-lax3-1.cdninstagram.com/v/t51...   \n",
      "1689  DIMr8d_hWk5  https://scontent-lax3-2.cdninstagram.com/v/t51...   \n",
      "1691  C9ASY71hDTo  https://scontent-lax3-2.cdninstagram.com/v/t39...   \n",
      "1692  CzybwmqhZ-U  https://scontent-lax3-2.cdninstagram.com/v/t39...   \n",
      "\n",
      "                                 music_title  \\\n",
      "0                  Call Me When You Break Up   \n",
      "1                                Sunset Blvd   \n",
      "2                                    Perfect   \n",
      "3                                 Those Eyes   \n",
      "4     I've Been In Love (feat. Channel Tres)   \n",
      "...                                      ...   \n",
      "1687                           Over the Moon   \n",
      "1688                                Dark Red   \n",
      "1689     Where Roses Bloom (Voice Memo Clip)   \n",
      "1691                          Dreamer's Path   \n",
      "1692                           Perfect Night   \n",
      "\n",
      "                                   music_artist  \n",
      "0     Selena Gomez, benny blanco, Gracie Abrams  \n",
      "1                    Selena Gomez, benny blanco  \n",
      "2                                    Ed Sheeran  \n",
      "3                                      New West  \n",
      "4                                        Jungle  \n",
      "...                                         ...  \n",
      "1687                                 The Marías  \n",
      "1688                                 Steve Lacy  \n",
      "1689                                      Teesa  \n",
      "1691                                James Quinn  \n",
      "1692                                LE SSERAFIM  \n",
      "\n",
      "[1610 rows x 4 columns]\n"
     ]
    }
   ],
   "source": [
    "#show duplicates\n",
    "duplicates = df[df.duplicated(keep=False)]\n",
    "if not duplicates.empty:\n",
    "    print(\"Duplicates found:\")\n",
    "    print(duplicates)\n",
    "else:\n",
    "    print(\"No duplicates found.\")\n",
    "\n",
    "# remove duplicates\n",
    "df = df.drop_duplicates()"
   ]
  },
  {
   "cell_type": "code",
   "execution_count": 25,
   "metadata": {},
   "outputs": [
    {
     "data": {
      "text/plain": [
       "888"
      ]
     },
     "execution_count": 25,
     "metadata": {},
     "output_type": "execute_result"
    }
   ],
   "source": [
    "len(df)"
   ]
  },
  {
   "cell_type": "markdown",
   "metadata": {},
   "source": []
  },
  {
   "cell_type": "code",
   "execution_count": 26,
   "metadata": {},
   "outputs": [],
   "source": [
    "\n",
    "# save to csv\n",
    "df.to_csv(\"csv/all_instagram_data.csv\", index=False)"
   ]
  }
 ],
 "metadata": {
  "kernelspec": {
   "display_name": "basic-venv",
   "language": "python",
   "name": "python3"
  },
  "language_info": {
   "codemirror_mode": {
    "name": "ipython",
    "version": 3
   },
   "file_extension": ".py",
   "mimetype": "text/x-python",
   "name": "python",
   "nbconvert_exporter": "python",
   "pygments_lexer": "ipython3",
   "version": "3.13.2"
  }
 },
 "nbformat": 4,
 "nbformat_minor": 2
}
