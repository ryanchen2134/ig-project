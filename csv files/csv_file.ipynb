{
 "cells": [
  {
   "cell_type": "code",
   "execution_count": 1,
   "metadata": {},
   "outputs": [],
   "source": [
    "import os\n",
    "import csv"
   ]
  },
  {
   "cell_type": "code",
   "execution_count": 2,
   "metadata": {},
   "outputs": [
    {
     "name": "stdout",
     "output_type": "stream",
     "text": [
      "CSV file created successfully.\n"
     ]
    }
   ],
   "source": [
    "# Define the folder containing the images and the caption\n",
    "#go to terminal cd into your-story -> cd into ig-project -> cd into specific image folder -> then run 'pwd' command to get the full path\n",
    "folder_path = '/Users/chaewonbang/your-story/ig-project/aquarium aesthetic' #path to our image folder\n",
    "caption = 'aquarium, calm relax, classical, dream pop' #image description\n",
    "\n",
    "# Open a CSV file for writing\n",
    "with open('aquarium.csv', mode='w', newline='') as file:\n",
    "    writer = csv.writer(file)\n",
    "    # Write the header row\n",
    "    writer.writerow(['image_path', 'text_caption'])\n",
    "    \n",
    "    # Loop through all the images in the folder\n",
    "    for image_name in os.listdir(folder_path):\n",
    "        # Only process image files (you can add more file types if needed)\n",
    "        if image_name.lower().endswith('.jpg'):\n",
    "            # Get the full path of the image\n",
    "            image_path = os.path.join(folder_path, image_name)\n",
    "            # Write the image path and caption to the CSV file\n",
    "            writer.writerow([image_path, caption])\n",
    "\n",
    "print(\"CSV file created successfully.\")\n"
   ]
  }
 ],
 "metadata": {
  "kernelspec": {
   "display_name": "Python 3",
   "language": "python",
   "name": "python3"
  },
  "language_info": {
   "codemirror_mode": {
    "name": "ipython",
    "version": 3
   },
   "file_extension": ".py",
   "mimetype": "text/x-python",
   "name": "python",
   "nbconvert_exporter": "python",
   "pygments_lexer": "ipython3",
   "version": "3.12.2"
  }
 },
 "nbformat": 4,
 "nbformat_minor": 2
}
