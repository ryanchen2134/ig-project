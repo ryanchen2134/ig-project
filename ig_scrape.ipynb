{
 "cells": [
  {
   "cell_type": "code",
   "execution_count": 33,
   "metadata": {},
   "outputs": [],
   "source": [
    "import httpx\n",
    "import json\n",
    "from typing import Dict\n",
    "from urllib.parse import quote\n"
   ]
  },
  {
   "cell_type": "code",
   "execution_count": 15,
   "metadata": {},
   "outputs": [],
   "source": [
    "def scrape_post(ig_doc_id ,url_or_shortcode: str) -> Dict:\n",
    "    \"\"\"Scrape single Instagram post data\"\"\"\n",
    "    print(f\"Scraping: {url_or_shortcode}, id: {ig_doc_id}\")\n",
    "    \n",
    "    if \"http\" in url_or_shortcode:\n",
    "        shortcode = url_or_shortcode.split(\"/p/\")[-1].split(\"/\")[0]\n",
    "    else:\n",
    "        shortcode = url_or_shortcode\n",
    "\n",
    "    variables = quote(json.dumps({\n",
    "        'shortcode':shortcode,'fetch_tagged_user_count':None,\n",
    "        'hoisted_comment_id':None,'hoisted_reply_id':None\n",
    "    }, separators=(',', ':')))\n",
    "    body = f\"variables={variables}&doc_id={ig_doc_id}\"\n",
    "    url = \"https://www.instagram.com/graphql/query\"\n",
    "\n",
    "    result = httpx.post(\n",
    "        url=url,\n",
    "        headers={\"content-type\": \"application/x-www-form-urlencoded\"},\n",
    "        data=body\n",
    "    )\n",
    "    data = json.loads(result.content)\n",
    "    \n",
    "    print(data)\n",
    "    \n",
    "    # return data[\"data\"][\"xdt_shortcode_media\"]\n",
    "    return data"
   ]
  },
  {
   "cell_type": "code",
   "execution_count": null,
   "metadata": {},
   "outputs": [],
   "source": [
    "# document id for content query:\n",
    "#more post content: \n",
    "# IG_DOC_ID = \"9195084877213487\"\n",
    "#more content\n",
    "# IG_DOC_ID = \"9507655305965624\"\n",
    "\n",
    "\n",
    "\n",
    "#relationships/related : 9480525715305126\n",
    "# IG_DOC_ID = \"9480525715305126\"\n",
    "#acc metadata: 9109150515847101\n",
    "# IG_DOC_ID = \"9109150515847101\"\n",
    "#reels: 9318096484942317\n",
    "# IG_DOC_ID = \"9318096484942317\""
   ]
  },
  {
   "cell_type": "code",
   "execution_count": 4,
   "metadata": {},
   "outputs": [
    {
     "name": "stdout",
     "output_type": "stream",
     "text": [
      "Requirement already satisfied: pytest-playwright in /Users/asdf/anaconda3/envs/ai/lib/python3.12/site-packages (0.7.0)\n",
      "Requirement already satisfied: playwright>=1.18 in /Users/asdf/anaconda3/envs/ai/lib/python3.12/site-packages (from pytest-playwright) (1.50.0)\n",
      "Requirement already satisfied: pytest<9.0.0,>=6.2.4 in /Users/asdf/anaconda3/envs/ai/lib/python3.12/site-packages (from pytest-playwright) (8.3.5)\n",
      "Requirement already satisfied: pytest-base-url<3.0.0,>=1.0.0 in /Users/asdf/anaconda3/envs/ai/lib/python3.12/site-packages (from pytest-playwright) (2.1.0)\n",
      "Requirement already satisfied: python-slugify<9.0.0,>=6.0.0 in /Users/asdf/anaconda3/envs/ai/lib/python3.12/site-packages (from pytest-playwright) (8.0.4)\n",
      "Requirement already satisfied: pyee<13,>=12 in /Users/asdf/anaconda3/envs/ai/lib/python3.12/site-packages (from playwright>=1.18->pytest-playwright) (12.1.1)\n",
      "Requirement already satisfied: greenlet<4.0.0,>=3.1.1 in /Users/asdf/anaconda3/envs/ai/lib/python3.12/site-packages (from playwright>=1.18->pytest-playwright) (3.1.1)\n",
      "Requirement already satisfied: iniconfig in /Users/asdf/anaconda3/envs/ai/lib/python3.12/site-packages (from pytest<9.0.0,>=6.2.4->pytest-playwright) (2.0.0)\n",
      "Requirement already satisfied: packaging in /Users/asdf/anaconda3/envs/ai/lib/python3.12/site-packages (from pytest<9.0.0,>=6.2.4->pytest-playwright) (24.2)\n",
      "Requirement already satisfied: pluggy<2,>=1.5 in /Users/asdf/anaconda3/envs/ai/lib/python3.12/site-packages (from pytest<9.0.0,>=6.2.4->pytest-playwright) (1.5.0)\n",
      "Requirement already satisfied: requests>=2.9 in /Users/asdf/anaconda3/envs/ai/lib/python3.12/site-packages (from pytest-base-url<3.0.0,>=1.0.0->pytest-playwright) (2.32.3)\n",
      "Requirement already satisfied: text-unidecode>=1.3 in /Users/asdf/anaconda3/envs/ai/lib/python3.12/site-packages (from python-slugify<9.0.0,>=6.0.0->pytest-playwright) (1.3)\n",
      "Requirement already satisfied: typing-extensions in /Users/asdf/anaconda3/envs/ai/lib/python3.12/site-packages (from pyee<13,>=12->playwright>=1.18->pytest-playwright) (4.12.2)\n",
      "Requirement already satisfied: charset-normalizer<4,>=2 in /Users/asdf/anaconda3/envs/ai/lib/python3.12/site-packages (from requests>=2.9->pytest-base-url<3.0.0,>=1.0.0->pytest-playwright) (3.3.2)\n",
      "Requirement already satisfied: idna<4,>=2.5 in /Users/asdf/anaconda3/envs/ai/lib/python3.12/site-packages (from requests>=2.9->pytest-base-url<3.0.0,>=1.0.0->pytest-playwright) (3.7)\n",
      "Requirement already satisfied: urllib3<3,>=1.21.1 in /Users/asdf/anaconda3/envs/ai/lib/python3.12/site-packages (from requests>=2.9->pytest-base-url<3.0.0,>=1.0.0->pytest-playwright) (1.26.20)\n",
      "Requirement already satisfied: certifi>=2017.4.17 in /Users/asdf/anaconda3/envs/ai/lib/python3.12/site-packages (from requests>=2.9->pytest-base-url<3.0.0,>=1.0.0->pytest-playwright) (2024.12.14)\n"
     ]
    }
   ],
   "source": [
    " ! pip install pytest-playwright\n",
    " ! playwright install"
   ]
  },
  {
   "cell_type": "code",
   "execution_count": 1,
   "metadata": {},
   "outputs": [],
   "source": [
    "import asyncio\n",
    "from playwright.async_api import async_playwright\n",
    "import re\n",
    "import json"
   ]
  },
  {
   "cell_type": "code",
   "execution_count": null,
   "metadata": {},
   "outputs": [
    {
     "name": "stdout",
     "output_type": "stream",
     "text": [
      "✅ Intercepted post 3583382089212371814_54284618\n"
     ]
    }
   ],
   "source": [
    "#This is a dynamic environment that stays open after execution\n",
    "\n",
    "# Global references for easy access across notebook cells\n",
    "playwright = await async_playwright().start()\n",
    "device = playwright.devices[\"Pixel 5\"]\n",
    "browser = await playwright.chromium.launch(headless=False)  # Browser will stay open\n",
    "context = await browser.new_context(**device)\n",
    "page = await context.new_page()\n",
    "# You now have persistent global references:\n",
    "# playwright, browser, context, page"
   ]
  },
  {
   "cell_type": "code",
   "execution_count": 5,
   "metadata": {},
   "outputs": [
    {
     "name": "stdout",
     "output_type": "stream",
     "text": [
      "Collecting python-dotenv\n",
      "  Using cached python_dotenv-1.0.1-py3-none-any.whl.metadata (23 kB)\n",
      "Using cached python_dotenv-1.0.1-py3-none-any.whl (19 kB)\n",
      "Installing collected packages: python-dotenv\n",
      "Successfully installed python-dotenv-1.0.1\n"
     ]
    }
   ],
   "source": [
    "! pip install python-dotenv"
   ]
  },
  {
   "cell_type": "code",
   "execution_count": 7,
   "metadata": {},
   "outputs": [],
   "source": [
    "from dotenv import load_dotenv\n",
    "#load the .env file\n",
    "# get USERNAME and PASSWORD\n",
    "load_dotenv(override=True)\n",
    "import os\n",
    "username = os.getenv(\"USERNAME\")\n",
    "password = os.getenv(\"PASSWORD\")"
   ]
  },
  {
   "cell_type": "code",
   "execution_count": 8,
   "metadata": {},
   "outputs": [
    {
     "data": {
      "text/plain": [
       "'r31412718'"
      ]
     },
     "execution_count": 8,
     "metadata": {},
     "output_type": "execute_result"
    }
   ],
   "source": [
    "username"
   ]
  },
  {
   "cell_type": "code",
   "execution_count": null,
   "metadata": {},
   "outputs": [],
   "source": [
    "#signon doesn't work rn\n",
    "\n",
    "import asyncio\n",
    "from playwright.async_api import TimeoutError\n",
    "\n",
    "async def signon(page, username, password):\n",
    "    try:\n",
    "        await page.goto(\"https://www.instagram.com/accounts/login/\", wait_until=\"networkidle\")\n",
    "\n",
    "        \n",
    "        await page.wait_for_selector('input[name=\"username\"]', timeout=10000)\n",
    "        await asyncio.sleep(0.5)\n",
    "        await page.fill('input[name=\"username\"]', username)\n",
    "        await asyncio.sleep(0.5)\n",
    "        await page.fill('input[name=\"password\"]', password)\n",
    "        await asyncio.sleep(0.5)\n",
    "\n",
    "        await page.click('button[type=\"submit\"]')\n",
    "        await asyncio.sleep(1)\n",
    "\n",
    "        # Wait for navigation or check for login errors\n",
    "        await page.wait_for_selector('nav', timeout=10000)  # Wait for main navigation bar as successful login indicator\n",
    "\n",
    "        # Verify successful login by checking URL or user-specific elements\n",
    "        if \"login\" in page.url:\n",
    "            raise ValueError(\"Login failed: Incorrect username or password.\")\n",
    "\n",
    "        print(\"✅ Successfully logged in\")\n",
    "        \n",
    "        return\n",
    "\n",
    "    except TimeoutError:\n",
    "        raise TimeoutError(\"Login timed out. Check credentials or network connection.\")\n",
    "    \n",
    "    "
   ]
  },
  {
   "cell_type": "code",
   "execution_count": 31,
   "metadata": {},
   "outputs": [
    {
     "ename": "ValueError",
     "evalue": "Login failed: Incorrect username or password.",
     "output_type": "error",
     "traceback": [
      "\u001b[0;31m---------------------------------------------------------------------------\u001b[0m",
      "\u001b[0;31mValueError\u001b[0m                                Traceback (most recent call last)",
      "Cell \u001b[0;32mIn[31], line 1\u001b[0m\n\u001b[0;32m----> 1\u001b[0m \u001b[38;5;28;01mawait\u001b[39;00m signon(page, username, password)\n",
      "Cell \u001b[0;32mIn[30], line 24\u001b[0m, in \u001b[0;36msignon\u001b[0;34m(page, username, password)\u001b[0m\n\u001b[1;32m     22\u001b[0m \u001b[38;5;66;03m# Verify successful login by checking URL or user-specific elements\u001b[39;00m\n\u001b[1;32m     23\u001b[0m \u001b[38;5;28;01mif\u001b[39;00m \u001b[38;5;124m\"\u001b[39m\u001b[38;5;124mlogin\u001b[39m\u001b[38;5;124m\"\u001b[39m \u001b[38;5;129;01min\u001b[39;00m page\u001b[38;5;241m.\u001b[39murl:\n\u001b[0;32m---> 24\u001b[0m     \u001b[38;5;28;01mraise\u001b[39;00m \u001b[38;5;167;01mValueError\u001b[39;00m(\u001b[38;5;124m\"\u001b[39m\u001b[38;5;124mLogin failed: Incorrect username or password.\u001b[39m\u001b[38;5;124m\"\u001b[39m)\n\u001b[1;32m     26\u001b[0m \u001b[38;5;28mprint\u001b[39m(\u001b[38;5;124m\"\u001b[39m\u001b[38;5;124m✅ Successfully logged in\u001b[39m\u001b[38;5;124m\"\u001b[39m)\n\u001b[1;32m     28\u001b[0m \u001b[38;5;28;01mreturn\u001b[39;00m\n",
      "\u001b[0;31mValueError\u001b[0m: Login failed: Incorrect username or password."
     ]
    }
   ],
   "source": [
    "await signon(page, username, password)"
   ]
  },
  {
   "cell_type": "code",
   "execution_count": 32,
   "metadata": {},
   "outputs": [
    {
     "name": "stdout",
     "output_type": "stream",
     "text": [
      "Navigating to profile: https://www.instagram.com/mattrife/\n",
      "Found 24 potential posts.\n",
      "Clicking on post: /mattrife/p/DG6uwZKACNm/\n",
      "Data intercepted successfully for /mattrife/p/DG6uwZKACNm/\n"
     ]
    },
    {
     "name": "stderr",
     "output_type": "stream",
     "text": [
      "Future exception was never retrieved\n",
      "future: <Future finished exception=Exception('Connection closed while reading from the driver')>\n",
      "Exception: Connection closed while reading from the driver\n",
      "Future exception was never retrieved\n",
      "future: <Future finished exception=TargetClosedError('Target page, context or browser has been closed\\nCall log:\\n  - navigating to \"https://www.instagram.com/mattrife/\", waiting until \"networkidle\"\\n')>\n",
      "playwright._impl._errors.TargetClosedError: Target page, context or browser has been closed\n",
      "Call log:\n",
      "  - navigating to \"https://www.instagram.com/mattrife/\", waiting until \"networkidle\"\n",
      "\n"
     ]
    },
    {
     "name": "stdout",
     "output_type": "stream",
     "text": [
      "Clicking on post: /mattrife/p/DG1rLC4gVnM/\n"
     ]
    },
    {
     "ename": "Error",
     "evalue": "ElementHandle.click: Element is not attached to the DOM\nCall log:\n  - attempting click action\n  -     - waiting for element to be visible, enabled and stable\n",
     "output_type": "error",
     "traceback": [
      "\u001b[0;31m---------------------------------------------------------------------------\u001b[0m",
      "\u001b[0;31mError\u001b[0m                                     Traceback (most recent call last)",
      "Cell \u001b[0;32mIn[32], line 58\u001b[0m\n\u001b[1;32m     54\u001b[0m     \u001b[38;5;28;01mreturn\u001b[39;00m intercepted_posts\n\u001b[1;32m     56\u001b[0m \u001b[38;5;66;03m# Usage:\u001b[39;00m\n\u001b[1;32m     57\u001b[0m \u001b[38;5;66;03m# Assuming PAGE is already initialized Playwright page\u001b[39;00m\n\u001b[0;32m---> 58\u001b[0m data \u001b[38;5;241m=\u001b[39m \u001b[38;5;28;01mawait\u001b[39;00m scrape_profile_posts(\u001b[38;5;124m\"\u001b[39m\u001b[38;5;124mhttps://www.instagram.com/mattrife/\u001b[39m\u001b[38;5;124m\"\u001b[39m, page)\n\u001b[1;32m     59\u001b[0m \u001b[38;5;28mprint\u001b[39m(json\u001b[38;5;241m.\u001b[39mdumps(data, indent\u001b[38;5;241m=\u001b[39m\u001b[38;5;241m2\u001b[39m))\n",
      "Cell \u001b[0;32mIn[32], line 42\u001b[0m, in \u001b[0;36mscrape_profile_posts\u001b[0;34m(profile_url, page)\u001b[0m\n\u001b[1;32m     39\u001b[0m             future_response\u001b[38;5;241m.\u001b[39mset_result(\u001b[38;5;28;01mTrue\u001b[39;00m)\n\u001b[1;32m     41\u001b[0m page\u001b[38;5;241m.\u001b[39mon(\u001b[38;5;124m\"\u001b[39m\u001b[38;5;124mresponse\u001b[39m\u001b[38;5;124m\"\u001b[39m, response_listener)\n\u001b[0;32m---> 42\u001b[0m \u001b[38;5;28;01mawait\u001b[39;00m parent\u001b[38;5;241m.\u001b[39mclick()\n\u001b[1;32m     44\u001b[0m \u001b[38;5;28;01mtry\u001b[39;00m:\n\u001b[1;32m     45\u001b[0m     \u001b[38;5;28;01mawait\u001b[39;00m asyncio\u001b[38;5;241m.\u001b[39mwait_for(future_response, timeout\u001b[38;5;241m=\u001b[39m\u001b[38;5;241m10\u001b[39m)\n",
      "File \u001b[0;32m~/anaconda3/envs/ai/lib/python3.12/site-packages/playwright/async_api/_generated.py:2128\u001b[0m, in \u001b[0;36mElementHandle.click\u001b[0;34m(self, modifiers, position, delay, button, click_count, timeout, force, no_wait_after, trial)\u001b[0m\n\u001b[1;32m   2069\u001b[0m \u001b[38;5;28;01masync\u001b[39;00m \u001b[38;5;28;01mdef\u001b[39;00m\u001b[38;5;250m \u001b[39m\u001b[38;5;21mclick\u001b[39m(\n\u001b[1;32m   2070\u001b[0m     \u001b[38;5;28mself\u001b[39m,\n\u001b[1;32m   2071\u001b[0m     \u001b[38;5;241m*\u001b[39m,\n\u001b[0;32m   (...)\u001b[0m\n\u001b[1;32m   2082\u001b[0m     trial: typing\u001b[38;5;241m.\u001b[39mOptional[\u001b[38;5;28mbool\u001b[39m] \u001b[38;5;241m=\u001b[39m \u001b[38;5;28;01mNone\u001b[39;00m,\n\u001b[1;32m   2083\u001b[0m ) \u001b[38;5;241m-\u001b[39m\u001b[38;5;241m>\u001b[39m \u001b[38;5;28;01mNone\u001b[39;00m:\n\u001b[1;32m   2084\u001b[0m \u001b[38;5;250m    \u001b[39m\u001b[38;5;124;03m\"\"\"ElementHandle.click\u001b[39;00m\n\u001b[1;32m   2085\u001b[0m \n\u001b[1;32m   2086\u001b[0m \u001b[38;5;124;03m    This method clicks the element by performing the following steps:\u001b[39;00m\n\u001b[0;32m   (...)\u001b[0m\n\u001b[1;32m   2124\u001b[0m \u001b[38;5;124;03m        to `false`. Useful to wait until the element is ready for the action without performing it.\u001b[39;00m\n\u001b[1;32m   2125\u001b[0m \u001b[38;5;124;03m    \"\"\"\u001b[39;00m\n\u001b[1;32m   2127\u001b[0m     \u001b[38;5;28;01mreturn\u001b[39;00m mapping\u001b[38;5;241m.\u001b[39mfrom_maybe_impl(\n\u001b[0;32m-> 2128\u001b[0m         \u001b[38;5;28;01mawait\u001b[39;00m \u001b[38;5;28mself\u001b[39m\u001b[38;5;241m.\u001b[39m_impl_obj\u001b[38;5;241m.\u001b[39mclick(\n\u001b[1;32m   2129\u001b[0m             modifiers\u001b[38;5;241m=\u001b[39mmapping\u001b[38;5;241m.\u001b[39mto_impl(modifiers),\n\u001b[1;32m   2130\u001b[0m             position\u001b[38;5;241m=\u001b[39mposition,\n\u001b[1;32m   2131\u001b[0m             delay\u001b[38;5;241m=\u001b[39mdelay,\n\u001b[1;32m   2132\u001b[0m             button\u001b[38;5;241m=\u001b[39mbutton,\n\u001b[1;32m   2133\u001b[0m             clickCount\u001b[38;5;241m=\u001b[39mclick_count,\n\u001b[1;32m   2134\u001b[0m             timeout\u001b[38;5;241m=\u001b[39mtimeout,\n\u001b[1;32m   2135\u001b[0m             force\u001b[38;5;241m=\u001b[39mforce,\n\u001b[1;32m   2136\u001b[0m             noWaitAfter\u001b[38;5;241m=\u001b[39mno_wait_after,\n\u001b[1;32m   2137\u001b[0m             trial\u001b[38;5;241m=\u001b[39mtrial,\n\u001b[1;32m   2138\u001b[0m         )\n\u001b[1;32m   2139\u001b[0m     )\n",
      "File \u001b[0;32m~/anaconda3/envs/ai/lib/python3.12/site-packages/playwright/_impl/_element_handle.py:132\u001b[0m, in \u001b[0;36mElementHandle.click\u001b[0;34m(self, modifiers, position, delay, button, clickCount, timeout, force, noWaitAfter, trial)\u001b[0m\n\u001b[1;32m    120\u001b[0m \u001b[38;5;28;01masync\u001b[39;00m \u001b[38;5;28;01mdef\u001b[39;00m\u001b[38;5;250m \u001b[39m\u001b[38;5;21mclick\u001b[39m(\n\u001b[1;32m    121\u001b[0m     \u001b[38;5;28mself\u001b[39m,\n\u001b[1;32m    122\u001b[0m     modifiers: Sequence[KeyboardModifier] \u001b[38;5;241m=\u001b[39m \u001b[38;5;28;01mNone\u001b[39;00m,\n\u001b[0;32m   (...)\u001b[0m\n\u001b[1;32m    130\u001b[0m     trial: \u001b[38;5;28mbool\u001b[39m \u001b[38;5;241m=\u001b[39m \u001b[38;5;28;01mNone\u001b[39;00m,\n\u001b[1;32m    131\u001b[0m ) \u001b[38;5;241m-\u001b[39m\u001b[38;5;241m>\u001b[39m \u001b[38;5;28;01mNone\u001b[39;00m:\n\u001b[0;32m--> 132\u001b[0m     \u001b[38;5;28;01mawait\u001b[39;00m \u001b[38;5;28mself\u001b[39m\u001b[38;5;241m.\u001b[39m_channel\u001b[38;5;241m.\u001b[39msend(\u001b[38;5;124m\"\u001b[39m\u001b[38;5;124mclick\u001b[39m\u001b[38;5;124m\"\u001b[39m, locals_to_params(\u001b[38;5;28mlocals\u001b[39m()))\n",
      "File \u001b[0;32m~/anaconda3/envs/ai/lib/python3.12/site-packages/playwright/_impl/_connection.py:61\u001b[0m, in \u001b[0;36mChannel.send\u001b[0;34m(self, method, params)\u001b[0m\n\u001b[1;32m     60\u001b[0m \u001b[38;5;28;01masync\u001b[39;00m \u001b[38;5;28;01mdef\u001b[39;00m\u001b[38;5;250m \u001b[39m\u001b[38;5;21msend\u001b[39m(\u001b[38;5;28mself\u001b[39m, method: \u001b[38;5;28mstr\u001b[39m, params: Dict \u001b[38;5;241m=\u001b[39m \u001b[38;5;28;01mNone\u001b[39;00m) \u001b[38;5;241m-\u001b[39m\u001b[38;5;241m>\u001b[39m Any:\n\u001b[0;32m---> 61\u001b[0m     \u001b[38;5;28;01mreturn\u001b[39;00m \u001b[38;5;28;01mawait\u001b[39;00m \u001b[38;5;28mself\u001b[39m\u001b[38;5;241m.\u001b[39m_connection\u001b[38;5;241m.\u001b[39mwrap_api_call(\n\u001b[1;32m     62\u001b[0m         \u001b[38;5;28;01mlambda\u001b[39;00m: \u001b[38;5;28mself\u001b[39m\u001b[38;5;241m.\u001b[39m_inner_send(method, params, \u001b[38;5;28;01mFalse\u001b[39;00m),\n\u001b[1;32m     63\u001b[0m         \u001b[38;5;28mself\u001b[39m\u001b[38;5;241m.\u001b[39m_is_internal_type,\n\u001b[1;32m     64\u001b[0m     )\n",
      "File \u001b[0;32m~/anaconda3/envs/ai/lib/python3.12/site-packages/playwright/_impl/_connection.py:528\u001b[0m, in \u001b[0;36mConnection.wrap_api_call\u001b[0;34m(self, cb, is_internal)\u001b[0m\n\u001b[1;32m    526\u001b[0m     \u001b[38;5;28;01mreturn\u001b[39;00m \u001b[38;5;28;01mawait\u001b[39;00m cb()\n\u001b[1;32m    527\u001b[0m \u001b[38;5;28;01mexcept\u001b[39;00m \u001b[38;5;167;01mException\u001b[39;00m \u001b[38;5;28;01mas\u001b[39;00m error:\n\u001b[0;32m--> 528\u001b[0m     \u001b[38;5;28;01mraise\u001b[39;00m rewrite_error(error, \u001b[38;5;124mf\u001b[39m\u001b[38;5;124m\"\u001b[39m\u001b[38;5;132;01m{\u001b[39;00mparsed_st[\u001b[38;5;124m'\u001b[39m\u001b[38;5;124mapiName\u001b[39m\u001b[38;5;124m'\u001b[39m]\u001b[38;5;132;01m}\u001b[39;00m\u001b[38;5;124m: \u001b[39m\u001b[38;5;132;01m{\u001b[39;00merror\u001b[38;5;132;01m}\u001b[39;00m\u001b[38;5;124m\"\u001b[39m) \u001b[38;5;28;01mfrom\u001b[39;00m\u001b[38;5;250m \u001b[39m\u001b[38;5;28;01mNone\u001b[39;00m\n\u001b[1;32m    529\u001b[0m \u001b[38;5;28;01mfinally\u001b[39;00m:\n\u001b[1;32m    530\u001b[0m     \u001b[38;5;28mself\u001b[39m\u001b[38;5;241m.\u001b[39m_api_zone\u001b[38;5;241m.\u001b[39mset(\u001b[38;5;28;01mNone\u001b[39;00m)\n",
      "\u001b[0;31mError\u001b[0m: ElementHandle.click: Element is not attached to the DOM\nCall log:\n  - attempting click action\n  -     - waiting for element to be visible, enabled and stable\n"
     ]
    }
   ],
   "source": [
    "async def scrape_profile_posts(profile_url: str, page):\n",
    "    target_endpoint_pattern = r\"/api/v1/media/\\d+/info/\"\n",
    "    intercepted_posts = {}\n",
    "    clicked_hrefs = set()\n",
    "\n",
    "    # await signon(page, username, password)\n",
    "\n",
    "    async def intercept_response(response):\n",
    "        if re.search(target_endpoint_pattern, response.url) and response.status == 200:\n",
    "            data = await response.json()\n",
    "            media_id = data.get('items', [{}])[0].get('id', 'unknown')\n",
    "            intercepted_posts[media_id] = data\n",
    "            print(f\"✅ Intercepted post {media_id}\")\n",
    "\n",
    "    page.on(\"response\", intercept_response)\n",
    "\n",
    "    print(f\"Navigating to profile: {profile_url}\")\n",
    "    \n",
    "    await page.goto(profile_url, wait_until=\"networkidle\")\n",
    "\n",
    "    # Click on the \"feed\" button if necessary (replace with actual selector)\n",
    "    # Example: await page.click('selector-for-feed-button')\n",
    "\n",
    "    posts = await page.query_selector_all(\"div._aagu\")\n",
    "    print(f\"Found {len(posts)} potential posts.\")\n",
    "\n",
    "    for post in posts:\n",
    "        parent = await post.evaluate_handle(\"node => node.closest('a')\")\n",
    "        if parent:\n",
    "            href = await parent.get_attribute('href')\n",
    "            if href and '/p/' in href and href not in clicked_hrefs:\n",
    "                print(f\"Clicking on post: {href}\")\n",
    "                clicked_hrefs.add(href)\n",
    "                future_response = asyncio.Future()\n",
    "\n",
    "                async def response_listener(response):\n",
    "                    if re.search(target_endpoint_pattern, response.url) and response.status == 200:\n",
    "                        if not future_response.done():\n",
    "                            future_response.set_result(True)\n",
    "\n",
    "                page.on(\"response\", response_listener)\n",
    "                await parent.click()\n",
    "\n",
    "                try:\n",
    "                    await asyncio.wait_for(future_response, timeout=10)\n",
    "                    print(f\"Data intercepted successfully for {href}\")\n",
    "                except asyncio.TimeoutError:\n",
    "                    print(f\"Failed to intercept data for {href}\")\n",
    "\n",
    "                await asyncio.sleep(1)  # Adjust sleep if needed\n",
    "                await page.go_back(wait_until=\"networkidle\")\n",
    "\n",
    "    print(\"Completed scraping posts.\")\n",
    "    return intercepted_posts\n",
    "\n",
    "# Usage:\n",
    "# Assuming PAGE is already initialized Playwright page\n",
    "data = await scrape_profile_posts(\"https://www.instagram.com/mattrife/\", page)\n",
    "print(json.dumps(data, indent=2))\n"
   ]
  },
  {
   "cell_type": "code",
   "execution_count": null,
   "metadata": {},
   "outputs": [],
   "source": []
  }
 ],
 "metadata": {
  "kernelspec": {
   "display_name": "ai",
   "language": "python",
   "name": "python3"
  },
  "language_info": {
   "codemirror_mode": {
    "name": "ipython",
    "version": 3
   },
   "file_extension": ".py",
   "mimetype": "text/x-python",
   "name": "python",
   "nbconvert_exporter": "python",
   "pygments_lexer": "ipython3",
   "version": "3.12.8"
  }
 },
 "nbformat": 4,
 "nbformat_minor": 2
}
