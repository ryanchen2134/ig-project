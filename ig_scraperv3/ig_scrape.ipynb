{
 "cells": [
  {
   "cell_type": "code",
   "execution_count": 26,
   "metadata": {},
   "outputs": [],
   "source": [
    "import httpx\n",
    "import json\n",
    "from typing import Dict\n",
    "from urllib.parse import quote\n"
   ]
  },
  {
   "cell_type": "code",
   "execution_count": 27,
   "metadata": {},
   "outputs": [],
   "source": [
    "import asyncio\n",
    "from playwright.async_api import async_playwright\n",
    "import re\n",
    "import json\n",
    "\n",
    "from dotenv import load_dotenv\n",
    "#load the .env file\n",
    "# get USERNAME and PASSWORD\n",
    "load_dotenv(override=True)\n",
    "import os\n",
    "username = os.getenv(\"USERNAME\")\n",
    "password = os.getenv(\"PASSWORD\")"
   ]
  },
  {
   "cell_type": "code",
   "execution_count": 49,
   "metadata": {},
   "outputs": [],
   "source": [
    "#signon doesn't work rn\n",
    "\n",
    "import asyncio\n",
    "from playwright.async_api import TimeoutError\n",
    "\n",
    "async def signon(page, username, password):\n",
    "    try:\n",
    "        await page.goto(\"https://www.instagram.com/accounts/login/\", wait_until=\"networkidle\")\n",
    "\n",
    "        await page.wait_for_selector('input[name=\"username\"]', timeout=10000)\n",
    "        print(\"Filling in login form...\")\n",
    "        await page.fill('input[name=\"username\"]', username)\n",
    "        await page.fill('input[name=\"password\"]', password)\n",
    "        #sleep 500ms\n",
    "        await page.wait_for_timeout(500)\n",
    "        print(\"Hitting login button\")\n",
    "\n",
    "        # Wait until the element with the aria-label \"Log in\" is visible.\n",
    "        await page.wait_for_selector(\"div[aria-label='Log in']\", state=\"visible\")\n",
    "        # Now attempt a click on it.\n",
    "        await page.click(\"div[aria-label='Log in']\")\n",
    "\n",
    "        #wait for networkidle\n",
    "        await page.wait_for_load_state(\"networkidle\")\n",
    "        \n",
    "       #look for this: <span class=\"x1lliihq x193iq5w x6ikm8r x10wlt62 xlyipyv xuxw1ft\">Save info</span>\n",
    "       # the button is its 5th parent\n",
    "        await page.wait_for_selector(\"span:has-text('Save info')\", timeout=10000)\n",
    "        # Click the button\n",
    "        await page.click(\"span:has-text('Save info')\", timeout=10000)\n",
    "        #wait for networkidle\n",
    "        await page.wait_for_load_state(\"networkidle\")\n",
    "        \n",
    "        \n",
    "        # print(\"Networkidle #1\")\n",
    "        # wait for things to settle\n",
    "        await page.wait_for_timeout(1000)\n",
    "        # Check for any popups or modals\n",
    "\n",
    "        # Verify successful login by checking URL or user-specific elements\n",
    "        if \"login\" in page.url:\n",
    "            raise ValueError(\"Login failed: Incorrect username or password.\")\n",
    "\n",
    "        print(\"✅ Successfully logged in\")\n",
    "        \n",
    "        return\n",
    "\n",
    "    except TimeoutError:\n",
    "        raise TimeoutError(\"Login timed out. Check credentials or network connection.\")\n",
    "    \n",
    "    "
   ]
  },
  {
   "cell_type": "code",
   "execution_count": null,
   "metadata": {},
   "outputs": [],
   "source": []
  },
  {
   "cell_type": "code",
   "execution_count": 29,
   "metadata": {},
   "outputs": [],
   "source": [
    "import asyncio\n",
    "from playwright.async_api import TimeoutError\n",
    "\n",
    "async def get_total_posts(page):\n",
    "    \"\"\"Extracts the total number of posts from the user's profile.\"\"\"\n",
    "    total_posts = await page.evaluate(\"\"\"\n",
    "        () => {\n",
    "            const element = document.querySelector('header section ul li span');\n",
    "            return element ? parseInt(element.innerText.replace(',', '')) : null;\n",
    "        }\n",
    "    \"\"\")\n",
    "    return total_posts if total_posts is not None else float('inf')\n",
    "\n",
    "async def scrape_instagram_posts(userhandle: str, max_posts: int):\n",
    "    \"\"\"\n",
    "    Scrapes Instagram post metadata for regular posts (excluding reels) from a given user's profile.\n",
    "    \"\"\"\n",
    "    global context, page  # You must define these in the notebook before calling this function.\n",
    "\n",
    "    # Step 1: Navigate to the user profile.\n",
    "    profile_url = f\"https://www.instagram.com/{userhandle}/\"\n",
    "    await page.goto(profile_url)\n",
    "    await page.wait_for_load_state(\"networkidle\")\n",
    "    \n",
    "    total_posts = await get_total_posts(page)\n",
    "    scrape_limit = min(max_posts, total_posts)\n",
    "    print(f\"🔎 Total posts on profile: {total_posts}. Will scrape up to: {scrape_limit} posts.\")\n",
    "\n",
    "    # Step 2: Scroll and collect links as we go\n",
    "    print(\"🔽 Scrolling and collecting post links...\")\n",
    "    unique_posts = {}\n",
    "    scroll_attempts = 0\n",
    "    MAX_SCROLL_ATTEMPTS = 20\n",
    "\n",
    "    while len(unique_posts) < scrape_limit and scroll_attempts < MAX_SCROLL_ATTEMPTS:\n",
    "        candidate_elements = await page.query_selector_all(\"a:has(div._aagu)\")\n",
    "        for element in candidate_elements:\n",
    "            href = await element.get_attribute(\"href\")\n",
    "            if href and \"/p/\" in href and href not in unique_posts:\n",
    "                unique_posts[href] = None\n",
    "        print(f\"🧠 Collected so far: {len(unique_posts)} / {scrape_limit}\")\n",
    "        if len(unique_posts) >= scrape_limit:\n",
    "            break\n",
    "        await page.evaluate(\"window.scrollTo(0, document.body.scrollHeight);\")\n",
    "        await asyncio.sleep(1.5)\n",
    "        scroll_attempts += 1\n",
    "\n",
    "    post_hrefs = list(unique_posts.keys())[:scrape_limit]\n",
    "    results = {}\n",
    "\n",
    "    # Step 3: Process each post in a new tab and intercept metadata\n",
    "    print(f\"📝 Opening and intercepting {len(post_hrefs)} posts...\")\n",
    "    for i, href in enumerate(post_hrefs, start=1):\n",
    "        post_url = f\"https://www.instagram.com{href}\"\n",
    "        new_page = await context.new_page()\n",
    "        try:\n",
    "            async with new_page.expect_response(\n",
    "                lambda response: \"/api/v1/media/\" in response.url and \"/info/\" in response.url,\n",
    "                timeout=5000\n",
    "            ) as response_info:\n",
    "                await new_page.goto(post_url)\n",
    "\n",
    "            response = await response_info.value\n",
    "            data = await response.json()\n",
    "            results[href] = data\n",
    "            print(f\"✅ ({i}/{len(post_hrefs)}) Scraped metadata for {href}\")\n",
    "        except TimeoutError:\n",
    "            print(f\"⏱️ ({i}/{len(post_hrefs)}) Timeout: No metadata for {href}\")\n",
    "        finally:\n",
    "            await new_page.close()\n",
    "\n",
    "    return results\n"
   ]
  },
  {
   "cell_type": "code",
   "execution_count": null,
   "metadata": {},
   "outputs": [],
   "source": []
  },
  {
   "cell_type": "markdown",
   "metadata": {},
   "source": [
    "# Initiation"
   ]
  },
  {
   "cell_type": "code",
   "execution_count": 50,
   "metadata": {},
   "outputs": [
    {
     "name": "stdout",
     "output_type": "stream",
     "text": [
      "No cookies found, logging in...\n",
      "Filling in login form...\n",
      "Hitting login button\n",
      "✅ Successfully logged in\n"
     ]
    }
   ],
   "source": [
    "#This is a dynamic environment that stays open after execution\n",
    "\n",
    "# Global references for easy access across notebook cells\n",
    "playwright = await async_playwright().start()\n",
    "device = playwright.devices[\"Pixel 5\"]\n",
    "browser = await playwright.chromium.launch(headless=False)  # Browser will stay open\n",
    "context = await browser.new_context(**device)\n",
    "page = await context.new_page()\n",
    "# You now have persistent global references:\n",
    "# playwright, browser, context, page\n",
    "\n",
    "# load cookies only if they exist\n",
    "if os.path.exists(\"cookies.json\"):\n",
    "    print(\"Loading cookies from cookies.json\")\n",
    "    # load cookies\n",
    "    with open(\"cookies.json\", \"r\") as f:\n",
    "        cookies = json.load(f)\n",
    "\n",
    "    # set cookies\n",
    "    await page.context.add_cookies(cookies)\n",
    "else:\n",
    "    print(\"No cookies found, logging in...\")\n",
    "    # login\n",
    "    await signon(page, username, password)\n",
    "    # get cookies\n",
    "    cookies = await page.context.cookies()\n",
    "    # save cookies\n",
    "    with open(\"cookies.json\", \"w\") as f:\n",
    "        json.dump(cookies, f)"
   ]
  },
  {
   "cell_type": "code",
   "execution_count": 16,
   "metadata": {},
   "outputs": [],
   "source": [
    "# save browser cookies to a file\n",
    "cookies = await context.cookies()\n",
    "with open('cookies.json', 'w') as f:\n",
    "    json.dump(cookies, f)\n",
    "# Close the browser when done"
   ]
  },
  {
   "cell_type": "code",
   "execution_count": 21,
   "metadata": {},
   "outputs": [
    {
     "name": "stdout",
     "output_type": "stream",
     "text": [
      "Total posts on profile: 1554. Will scrape: 50 posts.\n",
      "🔽 Scrolling to load more posts...\n"
     ]
    }
   ],
   "source": [
    "results = await scrape_instagram_posts(\"mattrife\", 50)\n",
    "print(json.dumps(results, indent=2))"
   ]
  },
  {
   "cell_type": "code",
   "execution_count": null,
   "metadata": {},
   "outputs": [],
   "source": []
  },
  {
   "cell_type": "code",
   "execution_count": null,
   "metadata": {},
   "outputs": [],
   "source": []
  }
 ],
 "metadata": {
  "kernelspec": {
   "display_name": "ai",
   "language": "python",
   "name": "python3"
  },
  "language_info": {
   "codemirror_mode": {
    "name": "ipython",
    "version": 3
   },
   "file_extension": ".py",
   "mimetype": "text/x-python",
   "name": "python",
   "nbconvert_exporter": "python",
   "pygments_lexer": "ipython3",
   "version": "3.12.2"
  }
 },
 "nbformat": 4,
 "nbformat_minor": 2
}
