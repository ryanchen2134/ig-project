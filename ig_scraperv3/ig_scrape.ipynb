{
 "cells": [
  {
   "cell_type": "code",
   "execution_count": 26,
   "metadata": {},
   "outputs": [],
   "source": [
    "import httpx\n",
    "import json\n",
    "from typing import Dict\n",
    "from urllib.parse import quote\n"
   ]
  },
  {
   "cell_type": "code",
   "execution_count": 27,
   "metadata": {},
   "outputs": [],
   "source": [
    "import asyncio\n",
    "from playwright.async_api import async_playwright\n",
    "import re\n",
    "import json\n",
    "\n",
    "from dotenv import load_dotenv\n",
    "#load the .env file\n",
    "# get USERNAME and PASSWORD\n",
    "load_dotenv(override=True)\n",
    "import os\n",
    "username = os.getenv(\"USERNAME\")\n",
    "password = os.getenv(\"PASSWORD\")"
   ]
  },
  {
   "cell_type": "code",
   "execution_count": 28,
   "metadata": {},
   "outputs": [],
   "source": [
    "#signon doesn't work rn\n",
    "\n",
    "import asyncio\n",
    "from playwright.async_api import TimeoutError\n",
    "\n",
    "async def signon(page, username, password):\n",
    "    try:\n",
    "        await page.goto(\"https://www.instagram.com/accounts/login/\", wait_until=\"networkidle\")\n",
    "\n",
    "        await page.wait_for_selector('input[name=\"username\"]', timeout=10000)\n",
    "        print(\"Filling in login form...\")\n",
    "        await page.fill('input[name=\"username\"]', username)\n",
    "        await page.fill('input[name=\"password\"]', password)\n",
    "        #sleep 500ms\n",
    "        await page.wait_for_timeout(500)\n",
    "        print(\"Hitting login button\")\n",
    "        \n",
    "        # Wait for the login button to be visible (both selectors)\n",
    "        # await page.getByRole('button', { aria-label==\"Log in\" }).click();\n",
    "        await page.locator('[role=\"button\"][aria-label-id=\"replay\"]').click();\n",
    "\n",
    "\n",
    "        # wait for networkidle\n",
    "        await page.wait_for_timeout(5000)\n",
    "        \n",
    "        \n",
    "        # print(\"Networkidle #1\")\n",
    "        # wait for things to settle\n",
    "        await page.wait_for_timeout(1000)\n",
    "        # Check for any popups or modals\n",
    "\n",
    "        # Verify successful login by checking URL or user-specific elements\n",
    "        if \"login\" in page.url:\n",
    "            raise ValueError(\"Login failed: Incorrect username or password.\")\n",
    "\n",
    "        print(\"✅ Successfully logged in\")\n",
    "        \n",
    "        return\n",
    "\n",
    "    except TimeoutError:\n",
    "        raise TimeoutError(\"Login timed out. Check credentials or network connection.\")\n",
    "    \n",
    "    "
   ]
  },
  {
   "cell_type": "code",
   "execution_count": 29,
   "metadata": {},
   "outputs": [],
   "source": [
    "import asyncio\n",
    "from playwright.async_api import TimeoutError\n",
    "\n",
    "async def get_total_posts(page):\n",
    "    \"\"\"Extracts the total number of posts from the user's profile.\"\"\"\n",
    "    total_posts = await page.evaluate(\"\"\"\n",
    "        () => {\n",
    "            const element = document.querySelector('header section ul li span');\n",
    "            return element ? parseInt(element.innerText.replace(',', '')) : null;\n",
    "        }\n",
    "    \"\"\")\n",
    "    return total_posts if total_posts is not None else float('inf')\n",
    "\n",
    "async def scrape_instagram_posts(userhandle: str, max_posts: int):\n",
    "    \"\"\"\n",
    "    Scrapes Instagram post metadata for regular posts (excluding reels) from a given user's profile.\n",
    "    \"\"\"\n",
    "    global context, page  # You must define these in the notebook before calling this function.\n",
    "\n",
    "    # Step 1: Navigate to the user profile.\n",
    "    profile_url = f\"https://www.instagram.com/{userhandle}/\"\n",
    "    await page.goto(profile_url)\n",
    "    await page.wait_for_load_state(\"networkidle\")\n",
    "    \n",
    "    total_posts = await get_total_posts(page)\n",
    "    scrape_limit = min(max_posts, total_posts)\n",
    "    print(f\"🔎 Total posts on profile: {total_posts}. Will scrape up to: {scrape_limit} posts.\")\n",
    "\n",
    "    # Step 2: Scroll and collect links as we go\n",
    "    print(\"🔽 Scrolling and collecting post links...\")\n",
    "    unique_posts = {}\n",
    "    scroll_attempts = 0\n",
    "    MAX_SCROLL_ATTEMPTS = 20\n",
    "\n",
    "    while len(unique_posts) < scrape_limit and scroll_attempts < MAX_SCROLL_ATTEMPTS:\n",
    "        candidate_elements = await page.query_selector_all(\"a:has(div._aagu)\")\n",
    "        for element in candidate_elements:\n",
    "            href = await element.get_attribute(\"href\")\n",
    "            if href and \"/p/\" in href and href not in unique_posts:\n",
    "                unique_posts[href] = None\n",
    "        print(f\"🧠 Collected so far: {len(unique_posts)} / {scrape_limit}\")\n",
    "        if len(unique_posts) >= scrape_limit:\n",
    "            break\n",
    "        await page.evaluate(\"window.scrollTo(0, document.body.scrollHeight);\")\n",
    "        await asyncio.sleep(1.5)\n",
    "        scroll_attempts += 1\n",
    "\n",
    "    post_hrefs = list(unique_posts.keys())[:scrape_limit]\n",
    "    results = {}\n",
    "\n",
    "    # Step 3: Process each post in a new tab and intercept metadata\n",
    "    print(f\"📝 Opening and intercepting {len(post_hrefs)} posts...\")\n",
    "    for i, href in enumerate(post_hrefs, start=1):\n",
    "        post_url = f\"https://www.instagram.com{href}\"\n",
    "        new_page = await context.new_page()\n",
    "        try:\n",
    "            async with new_page.expect_response(\n",
    "                lambda response: \"/api/v1/media/\" in response.url and \"/info/\" in response.url,\n",
    "                timeout=5000\n",
    "            ) as response_info:\n",
    "                await new_page.goto(post_url)\n",
    "\n",
    "            response = await response_info.value\n",
    "            data = await response.json()\n",
    "            results[href] = data\n",
    "            print(f\"✅ ({i}/{len(post_hrefs)}) Scraped metadata for {href}\")\n",
    "        except TimeoutError:\n",
    "            print(f\"⏱️ ({i}/{len(post_hrefs)}) Timeout: No metadata for {href}\")\n",
    "        finally:\n",
    "            await new_page.close()\n",
    "\n",
    "    return results\n"
   ]
  },
  {
   "cell_type": "markdown",
   "metadata": {},
   "source": [
    "# Initiation"
   ]
  },
  {
   "cell_type": "code",
   "execution_count": 30,
   "metadata": {},
   "outputs": [
    {
     "ename": "FileNotFoundError",
     "evalue": "[Errno 2] No such file or directory: 'ig_session.json'",
     "output_type": "error",
     "traceback": [
      "\u001b[0;31m---------------------------------------------------------------------------\u001b[0m",
      "\u001b[0;31mFileNotFoundError\u001b[0m                         Traceback (most recent call last)",
      "Cell \u001b[0;32mIn[30], line 8\u001b[0m\n\u001b[1;32m      6\u001b[0m browser \u001b[38;5;241m=\u001b[39m \u001b[38;5;28;01mawait\u001b[39;00m playwright\u001b[38;5;241m.\u001b[39mchromium\u001b[38;5;241m.\u001b[39mlaunch(headless\u001b[38;5;241m=\u001b[39m\u001b[38;5;28;01mFalse\u001b[39;00m)\n\u001b[1;32m      7\u001b[0m device \u001b[38;5;241m=\u001b[39m playwright\u001b[38;5;241m.\u001b[39mdevices[\u001b[38;5;124m\"\u001b[39m\u001b[38;5;124mPixel 5\u001b[39m\u001b[38;5;124m\"\u001b[39m]\n\u001b[0;32m----> 8\u001b[0m context \u001b[38;5;241m=\u001b[39m \u001b[38;5;28;01mawait\u001b[39;00m browser\u001b[38;5;241m.\u001b[39mnew_context(storage_state\u001b[38;5;241m=\u001b[39m\u001b[38;5;124m\"\u001b[39m\u001b[38;5;124mig_session.json\u001b[39m\u001b[38;5;124m\"\u001b[39m, \u001b[38;5;241m*\u001b[39m\u001b[38;5;241m*\u001b[39mdevice)\n\u001b[1;32m      9\u001b[0m page \u001b[38;5;241m=\u001b[39m \u001b[38;5;28;01mawait\u001b[39;00m context\u001b[38;5;241m.\u001b[39mnew_page()\n\u001b[1;32m     11\u001b[0m \u001b[38;5;66;03m# You now have persistent global references:\u001b[39;00m\n\u001b[1;32m     12\u001b[0m \u001b[38;5;66;03m# playwright, browser, context, page\u001b[39;00m\n\u001b[1;32m     13\u001b[0m \n\u001b[1;32m     14\u001b[0m \u001b[38;5;66;03m# load cookies only if they exist\u001b[39;00m\n",
      "File \u001b[0;32m/Library/Frameworks/Python.framework/Versions/3.12/lib/python3.12/site-packages/playwright/async_api/_generated.py:13905\u001b[0m, in \u001b[0;36mBrowser.new_context\u001b[0;34m(self, viewport, screen, no_viewport, ignore_https_errors, java_script_enabled, bypass_csp, user_agent, locale, timezone_id, geolocation, permissions, extra_http_headers, offline, http_credentials, device_scale_factor, is_mobile, has_touch, color_scheme, reduced_motion, forced_colors, accept_downloads, default_browser_type, proxy, record_har_path, record_har_omit_content, record_video_dir, record_video_size, storage_state, base_url, strict_selectors, service_workers, record_har_url_filter, record_har_mode, record_har_content, client_certificates)\u001b[0m\n\u001b[1;32m  13703\u001b[0m \u001b[38;5;28;01masync\u001b[39;00m \u001b[38;5;28;01mdef\u001b[39;00m\u001b[38;5;250m \u001b[39m\u001b[38;5;21mnew_context\u001b[39m(\n\u001b[1;32m  13704\u001b[0m     \u001b[38;5;28mself\u001b[39m,\n\u001b[1;32m  13705\u001b[0m     \u001b[38;5;241m*\u001b[39m,\n\u001b[0;32m   (...)\u001b[0m\n\u001b[1;32m  13748\u001b[0m     client_certificates: typing\u001b[38;5;241m.\u001b[39mOptional[typing\u001b[38;5;241m.\u001b[39mList[ClientCertificate]] \u001b[38;5;241m=\u001b[39m \u001b[38;5;28;01mNone\u001b[39;00m,\n\u001b[1;32m  13749\u001b[0m ) \u001b[38;5;241m-\u001b[39m\u001b[38;5;241m>\u001b[39m \u001b[38;5;124m\"\u001b[39m\u001b[38;5;124mBrowserContext\u001b[39m\u001b[38;5;124m\"\u001b[39m:\n\u001b[1;32m  13750\u001b[0m \u001b[38;5;250m    \u001b[39m\u001b[38;5;124;03m\"\"\"Browser.new_context\u001b[39;00m\n\u001b[1;32m  13751\u001b[0m \n\u001b[1;32m  13752\u001b[0m \u001b[38;5;124;03m    Creates a new browser context. It won't share cookies/cache with other browser contexts.\u001b[39;00m\n\u001b[0;32m   (...)\u001b[0m\n\u001b[1;32m  13901\u001b[0m \u001b[38;5;124;03m    BrowserContext\u001b[39;00m\n\u001b[1;32m  13902\u001b[0m \u001b[38;5;124;03m    \"\"\"\u001b[39;00m\n\u001b[1;32m  13904\u001b[0m     \u001b[38;5;28;01mreturn\u001b[39;00m mapping\u001b[38;5;241m.\u001b[39mfrom_impl(\n\u001b[0;32m> 13905\u001b[0m         \u001b[38;5;28;01mawait\u001b[39;00m \u001b[38;5;28mself\u001b[39m\u001b[38;5;241m.\u001b[39m_impl_obj\u001b[38;5;241m.\u001b[39mnew_context(\n\u001b[1;32m  13906\u001b[0m             viewport\u001b[38;5;241m=\u001b[39mviewport,\n\u001b[1;32m  13907\u001b[0m             screen\u001b[38;5;241m=\u001b[39mscreen,\n\u001b[1;32m  13908\u001b[0m             noViewport\u001b[38;5;241m=\u001b[39mno_viewport,\n\u001b[1;32m  13909\u001b[0m             ignoreHTTPSErrors\u001b[38;5;241m=\u001b[39mignore_https_errors,\n\u001b[1;32m  13910\u001b[0m             javaScriptEnabled\u001b[38;5;241m=\u001b[39mjava_script_enabled,\n\u001b[1;32m  13911\u001b[0m             bypassCSP\u001b[38;5;241m=\u001b[39mbypass_csp,\n\u001b[1;32m  13912\u001b[0m             userAgent\u001b[38;5;241m=\u001b[39muser_agent,\n\u001b[1;32m  13913\u001b[0m             locale\u001b[38;5;241m=\u001b[39mlocale,\n\u001b[1;32m  13914\u001b[0m             timezoneId\u001b[38;5;241m=\u001b[39mtimezone_id,\n\u001b[1;32m  13915\u001b[0m             geolocation\u001b[38;5;241m=\u001b[39mgeolocation,\n\u001b[1;32m  13916\u001b[0m             permissions\u001b[38;5;241m=\u001b[39mmapping\u001b[38;5;241m.\u001b[39mto_impl(permissions),\n\u001b[1;32m  13917\u001b[0m             extraHTTPHeaders\u001b[38;5;241m=\u001b[39mmapping\u001b[38;5;241m.\u001b[39mto_impl(extra_http_headers),\n\u001b[1;32m  13918\u001b[0m             offline\u001b[38;5;241m=\u001b[39moffline,\n\u001b[1;32m  13919\u001b[0m             httpCredentials\u001b[38;5;241m=\u001b[39mhttp_credentials,\n\u001b[1;32m  13920\u001b[0m             deviceScaleFactor\u001b[38;5;241m=\u001b[39mdevice_scale_factor,\n\u001b[1;32m  13921\u001b[0m             isMobile\u001b[38;5;241m=\u001b[39mis_mobile,\n\u001b[1;32m  13922\u001b[0m             hasTouch\u001b[38;5;241m=\u001b[39mhas_touch,\n\u001b[1;32m  13923\u001b[0m             colorScheme\u001b[38;5;241m=\u001b[39mcolor_scheme,\n\u001b[1;32m  13924\u001b[0m             reducedMotion\u001b[38;5;241m=\u001b[39mreduced_motion,\n\u001b[1;32m  13925\u001b[0m             forcedColors\u001b[38;5;241m=\u001b[39mforced_colors,\n\u001b[1;32m  13926\u001b[0m             acceptDownloads\u001b[38;5;241m=\u001b[39maccept_downloads,\n\u001b[1;32m  13927\u001b[0m             defaultBrowserType\u001b[38;5;241m=\u001b[39mdefault_browser_type,\n\u001b[1;32m  13928\u001b[0m             proxy\u001b[38;5;241m=\u001b[39mproxy,\n\u001b[1;32m  13929\u001b[0m             recordHarPath\u001b[38;5;241m=\u001b[39mrecord_har_path,\n\u001b[1;32m  13930\u001b[0m             recordHarOmitContent\u001b[38;5;241m=\u001b[39mrecord_har_omit_content,\n\u001b[1;32m  13931\u001b[0m             recordVideoDir\u001b[38;5;241m=\u001b[39mrecord_video_dir,\n\u001b[1;32m  13932\u001b[0m             recordVideoSize\u001b[38;5;241m=\u001b[39mrecord_video_size,\n\u001b[1;32m  13933\u001b[0m             storageState\u001b[38;5;241m=\u001b[39mstorage_state,\n\u001b[1;32m  13934\u001b[0m             baseURL\u001b[38;5;241m=\u001b[39mbase_url,\n\u001b[1;32m  13935\u001b[0m             strictSelectors\u001b[38;5;241m=\u001b[39mstrict_selectors,\n\u001b[1;32m  13936\u001b[0m             serviceWorkers\u001b[38;5;241m=\u001b[39mservice_workers,\n\u001b[1;32m  13937\u001b[0m             recordHarUrlFilter\u001b[38;5;241m=\u001b[39mrecord_har_url_filter,\n\u001b[1;32m  13938\u001b[0m             recordHarMode\u001b[38;5;241m=\u001b[39mrecord_har_mode,\n\u001b[1;32m  13939\u001b[0m             recordHarContent\u001b[38;5;241m=\u001b[39mrecord_har_content,\n\u001b[1;32m  13940\u001b[0m             clientCertificates\u001b[38;5;241m=\u001b[39mclient_certificates,\n\u001b[1;32m  13941\u001b[0m         )\n\u001b[1;32m  13942\u001b[0m     )\n",
      "File \u001b[0;32m/Library/Frameworks/Python.framework/Versions/3.12/lib/python3.12/site-packages/playwright/_impl/_browser.py:127\u001b[0m, in \u001b[0;36mBrowser.new_context\u001b[0;34m(self, viewport, screen, noViewport, ignoreHTTPSErrors, javaScriptEnabled, bypassCSP, userAgent, locale, timezoneId, geolocation, permissions, extraHTTPHeaders, offline, httpCredentials, deviceScaleFactor, isMobile, hasTouch, colorScheme, reducedMotion, forcedColors, acceptDownloads, defaultBrowserType, proxy, recordHarPath, recordHarOmitContent, recordVideoDir, recordVideoSize, storageState, baseURL, strictSelectors, serviceWorkers, recordHarUrlFilter, recordHarMode, recordHarContent, clientCertificates)\u001b[0m\n\u001b[1;32m     88\u001b[0m \u001b[38;5;28;01masync\u001b[39;00m \u001b[38;5;28;01mdef\u001b[39;00m\u001b[38;5;250m \u001b[39m\u001b[38;5;21mnew_context\u001b[39m(\n\u001b[1;32m     89\u001b[0m     \u001b[38;5;28mself\u001b[39m,\n\u001b[1;32m     90\u001b[0m     viewport: ViewportSize \u001b[38;5;241m=\u001b[39m \u001b[38;5;28;01mNone\u001b[39;00m,\n\u001b[0;32m   (...)\u001b[0m\n\u001b[1;32m    124\u001b[0m     clientCertificates: List[ClientCertificate] \u001b[38;5;241m=\u001b[39m \u001b[38;5;28;01mNone\u001b[39;00m,\n\u001b[1;32m    125\u001b[0m ) \u001b[38;5;241m-\u001b[39m\u001b[38;5;241m>\u001b[39m BrowserContext:\n\u001b[1;32m    126\u001b[0m     params \u001b[38;5;241m=\u001b[39m locals_to_params(\u001b[38;5;28mlocals\u001b[39m())\n\u001b[0;32m--> 127\u001b[0m     \u001b[38;5;28;01mawait\u001b[39;00m prepare_browser_context_params(params)\n\u001b[1;32m    129\u001b[0m     channel \u001b[38;5;241m=\u001b[39m \u001b[38;5;28;01mawait\u001b[39;00m \u001b[38;5;28mself\u001b[39m\u001b[38;5;241m.\u001b[39m_channel\u001b[38;5;241m.\u001b[39msend(\u001b[38;5;124m\"\u001b[39m\u001b[38;5;124mnewContext\u001b[39m\u001b[38;5;124m\"\u001b[39m, params)\n\u001b[1;32m    130\u001b[0m     context \u001b[38;5;241m=\u001b[39m cast(BrowserContext, from_channel(channel))\n",
      "File \u001b[0;32m/Library/Frameworks/Python.framework/Versions/3.12/lib/python3.12/site-packages/playwright/_impl/_browser.py:249\u001b[0m, in \u001b[0;36mprepare_browser_context_params\u001b[0;34m(params)\u001b[0m\n\u001b[1;32m    246\u001b[0m     storageState \u001b[38;5;241m=\u001b[39m params[\u001b[38;5;124m\"\u001b[39m\u001b[38;5;124mstorageState\u001b[39m\u001b[38;5;124m\"\u001b[39m]\n\u001b[1;32m    247\u001b[0m     \u001b[38;5;28;01mif\u001b[39;00m \u001b[38;5;129;01mnot\u001b[39;00m \u001b[38;5;28misinstance\u001b[39m(storageState, \u001b[38;5;28mdict\u001b[39m):\n\u001b[1;32m    248\u001b[0m         params[\u001b[38;5;124m\"\u001b[39m\u001b[38;5;124mstorageState\u001b[39m\u001b[38;5;124m\"\u001b[39m] \u001b[38;5;241m=\u001b[39m json\u001b[38;5;241m.\u001b[39mloads(\n\u001b[0;32m--> 249\u001b[0m             (\u001b[38;5;28;01mawait\u001b[39;00m async_readfile(storageState))\u001b[38;5;241m.\u001b[39mdecode()\n\u001b[1;32m    250\u001b[0m         )\n\u001b[1;32m    251\u001b[0m \u001b[38;5;28;01mif\u001b[39;00m params\u001b[38;5;241m.\u001b[39mget(\u001b[38;5;124m\"\u001b[39m\u001b[38;5;124mcolorScheme\u001b[39m\u001b[38;5;124m\"\u001b[39m, \u001b[38;5;28;01mNone\u001b[39;00m) \u001b[38;5;241m==\u001b[39m \u001b[38;5;124m\"\u001b[39m\u001b[38;5;124mnull\u001b[39m\u001b[38;5;124m\"\u001b[39m:\n\u001b[1;32m    252\u001b[0m     params[\u001b[38;5;124m\"\u001b[39m\u001b[38;5;124mcolorScheme\u001b[39m\u001b[38;5;124m\"\u001b[39m] \u001b[38;5;241m=\u001b[39m \u001b[38;5;124m\"\u001b[39m\u001b[38;5;124mno-override\u001b[39m\u001b[38;5;124m\"\u001b[39m\n",
      "File \u001b[0;32m/Library/Frameworks/Python.framework/Versions/3.12/lib/python3.12/site-packages/playwright/_impl/_helper.py:414\u001b[0m, in \u001b[0;36masync_readfile\u001b[0;34m(file)\u001b[0m\n\u001b[1;32m    411\u001b[0m         \u001b[38;5;28;01mreturn\u001b[39;00m fh\u001b[38;5;241m.\u001b[39mread()\n\u001b[1;32m    413\u001b[0m loop \u001b[38;5;241m=\u001b[39m asyncio\u001b[38;5;241m.\u001b[39mget_running_loop()\n\u001b[0;32m--> 414\u001b[0m \u001b[38;5;28;01mreturn\u001b[39;00m \u001b[38;5;28;01mawait\u001b[39;00m loop\u001b[38;5;241m.\u001b[39mrun_in_executor(\u001b[38;5;28;01mNone\u001b[39;00m, inner)\n",
      "File \u001b[0;32m/Library/Frameworks/Python.framework/Versions/3.12/lib/python3.12/concurrent/futures/thread.py:58\u001b[0m, in \u001b[0;36m_WorkItem.run\u001b[0;34m(self)\u001b[0m\n\u001b[1;32m     55\u001b[0m     \u001b[38;5;28;01mreturn\u001b[39;00m\n\u001b[1;32m     57\u001b[0m \u001b[38;5;28;01mtry\u001b[39;00m:\n\u001b[0;32m---> 58\u001b[0m     result \u001b[38;5;241m=\u001b[39m \u001b[38;5;28;43mself\u001b[39;49m\u001b[38;5;241;43m.\u001b[39;49m\u001b[43mfn\u001b[49m\u001b[43m(\u001b[49m\u001b[38;5;241;43m*\u001b[39;49m\u001b[38;5;28;43mself\u001b[39;49m\u001b[38;5;241;43m.\u001b[39;49m\u001b[43margs\u001b[49m\u001b[43m,\u001b[49m\u001b[43m \u001b[49m\u001b[38;5;241;43m*\u001b[39;49m\u001b[38;5;241;43m*\u001b[39;49m\u001b[38;5;28;43mself\u001b[39;49m\u001b[38;5;241;43m.\u001b[39;49m\u001b[43mkwargs\u001b[49m\u001b[43m)\u001b[49m\n\u001b[1;32m     59\u001b[0m \u001b[38;5;28;01mexcept\u001b[39;00m \u001b[38;5;167;01mBaseException\u001b[39;00m \u001b[38;5;28;01mas\u001b[39;00m exc:\n\u001b[1;32m     60\u001b[0m     \u001b[38;5;28mself\u001b[39m\u001b[38;5;241m.\u001b[39mfuture\u001b[38;5;241m.\u001b[39mset_exception(exc)\n",
      "File \u001b[0;32m/Library/Frameworks/Python.framework/Versions/3.12/lib/python3.12/site-packages/playwright/_impl/_helper.py:410\u001b[0m, in \u001b[0;36masync_readfile.<locals>.inner\u001b[0;34m()\u001b[0m\n\u001b[1;32m    409\u001b[0m \u001b[38;5;28;01mdef\u001b[39;00m\u001b[38;5;250m \u001b[39m\u001b[38;5;21minner\u001b[39m() \u001b[38;5;241m-\u001b[39m\u001b[38;5;241m>\u001b[39m \u001b[38;5;28mbytes\u001b[39m:\n\u001b[0;32m--> 410\u001b[0m     \u001b[38;5;28;01mwith\u001b[39;00m \u001b[38;5;28;43mopen\u001b[39;49m\u001b[43m(\u001b[49m\u001b[43mfile\u001b[49m\u001b[43m,\u001b[49m\u001b[43m \u001b[49m\u001b[38;5;124;43m\"\u001b[39;49m\u001b[38;5;124;43mrb\u001b[39;49m\u001b[38;5;124;43m\"\u001b[39;49m\u001b[43m)\u001b[49m \u001b[38;5;28;01mas\u001b[39;00m fh:\n\u001b[1;32m    411\u001b[0m         \u001b[38;5;28;01mreturn\u001b[39;00m fh\u001b[38;5;241m.\u001b[39mread()\n",
      "\u001b[0;31mFileNotFoundError\u001b[0m: [Errno 2] No such file or directory: 'ig_session.json'"
     ]
    }
   ],
   "source": [
    "#This is a dynamic environment that stays open after execution\n",
    "\n",
    "# Global references for easy access across notebook cells\n",
    "playwright = await async_playwright().start()\n",
    "device = playwright.devices[\"Pixel 5\"]\n",
    "browser = await playwright.chromium.launch(headless=False)  # Browser will stay open\n",
    "context = await browser.new_context(**device)\n",
    "page = await context.new_page()\n",
    "# You now have persistent global references:\n",
    "# playwright, browser, context, page\n",
    "\n",
    "# load cookies only if they exist\n",
    "if os.path.exists(\"cookies.json\"):\n",
    "    print(\"Loading cookies from cookies.json\")\n",
    "    # load cookies\n",
    "    with open(\"cookies.json\", \"r\") as f:\n",
    "        cookies = json.load(f)\n",
    "\n",
    "    # set cookies\n",
    "    await page.context.add_cookies(cookies)\n",
    "else:\n",
    "    print(\"No cookies found, logging in...\")\n",
    "    # login\n",
    "    await signon(page, username, password)\n",
    "    # get cookies\n",
    "    cookies = await page.context.cookies()\n",
    "    # save cookies\n",
    "    with open(\"cookies.json\", \"w\") as f:\n",
    "        json.dump(cookies, f)"
   ]
  },
  {
   "cell_type": "code",
   "execution_count": 16,
   "metadata": {},
   "outputs": [],
   "source": [
    "# save browser cookies to a file\n",
    "cookies = await context.cookies()\n",
    "with open('cookies.json', 'w') as f:\n",
    "    json.dump(cookies, f)\n",
    "# Close the browser when done"
   ]
  },
  {
   "cell_type": "code",
   "execution_count": 21,
   "metadata": {},
   "outputs": [
    {
     "name": "stdout",
     "output_type": "stream",
     "text": [
      "Total posts on profile: 1554. Will scrape: 50 posts.\n",
      "🔽 Scrolling to load more posts...\n"
     ]
    }
   ],
   "source": [
    "results = await scrape_instagram_posts(\"mattrife\", 50)\n",
    "print(json.dumps(results, indent=2))"
   ]
  },
  {
   "cell_type": "code",
   "execution_count": null,
   "metadata": {},
   "outputs": [],
   "source": []
  },
  {
   "cell_type": "code",
   "execution_count": null,
   "metadata": {},
   "outputs": [],
   "source": []
  }
 ],
 "metadata": {
  "kernelspec": {
   "display_name": "ai",
   "language": "python",
   "name": "python3"
  },
  "language_info": {
   "codemirror_mode": {
    "name": "ipython",
    "version": 3
   },
   "file_extension": ".py",
   "mimetype": "text/x-python",
   "name": "python",
   "nbconvert_exporter": "python",
   "pygments_lexer": "ipython3",
   "version": "3.12.2"
  }
 },
 "nbformat": 4,
 "nbformat_minor": 2
}
