{
 "cells": [
  {
   "cell_type": "code",
   "execution_count": 2,
   "metadata": {},
   "outputs": [
    {
     "name": "stdout",
     "output_type": "stream",
     "text": [
      "Collecting jmespath\n",
      "  Downloading jmespath-1.0.1-py3-none-any.whl.metadata (7.6 kB)\n",
      "Downloading jmespath-1.0.1-py3-none-any.whl (20 kB)\n",
      "Installing collected packages: jmespath\n",
      "Successfully installed jmespath-1.0.1\n"
     ]
    }
   ],
   "source": [
    "!python3 -m pip install jmespath"
   ]
  },
  {
   "cell_type": "code",
   "execution_count": 83,
   "metadata": {},
   "outputs": [
    {
     "name": "stdout",
     "output_type": "stream",
     "text": [
      "Requirement already satisfied: pandas in /Library/Frameworks/Python.framework/Versions/3.12/lib/python3.12/site-packages (2.2.3)\n",
      "Requirement already satisfied: numpy>=1.26.0 in /Library/Frameworks/Python.framework/Versions/3.12/lib/python3.12/site-packages (from pandas) (2.2.3)\n",
      "Requirement already satisfied: python-dateutil>=2.8.2 in /Users/chaewonbang/Library/Python/3.12/lib/python/site-packages (from pandas) (2.9.0.post0)\n",
      "Requirement already satisfied: pytz>=2020.1 in /Library/Frameworks/Python.framework/Versions/3.12/lib/python3.12/site-packages (from pandas) (2025.2)\n",
      "Requirement already satisfied: tzdata>=2022.7 in /Library/Frameworks/Python.framework/Versions/3.12/lib/python3.12/site-packages (from pandas) (2025.2)\n",
      "Requirement already satisfied: six>=1.5 in /Users/chaewonbang/Library/Python/3.12/lib/python/site-packages (from python-dateutil>=2.8.2->pandas) (1.17.0)\n",
      "\n",
      "\u001b[1m[\u001b[0m\u001b[34;49mnotice\u001b[0m\u001b[1;39;49m]\u001b[0m\u001b[39;49m A new release of pip is available: \u001b[0m\u001b[31;49m24.0\u001b[0m\u001b[39;49m -> \u001b[0m\u001b[32;49m25.0.1\u001b[0m\n",
      "\u001b[1m[\u001b[0m\u001b[34;49mnotice\u001b[0m\u001b[1;39;49m]\u001b[0m\u001b[39;49m To update, run: \u001b[0m\u001b[32;49mpip3 install --upgrade pip\u001b[0m\n"
     ]
    }
   ],
   "source": [
    "!python3 -m pip install pandas\n"
   ]
  },
  {
   "cell_type": "code",
   "execution_count": 2,
   "metadata": {},
   "outputs": [],
   "source": [
    "import json\n",
    "import os\n",
    "import sys"
   ]
  },
  {
   "cell_type": "markdown",
   "metadata": {},
   "source": [
    "#### Desired data pairs and metadata"
   ]
  },
  {
   "cell_type": "code",
   "execution_count": 3,
   "metadata": {},
   "outputs": [],
   "source": [
    "import jmespath\n",
    "import json\n",
    "import os\n",
    "import sys\n",
    "\n",
    "# Load the JSON file\n",
    "def load_json_file(file_path):\n",
    "    if not os.path.exists(file_path):\n",
    "        print(f\"File {file_path} does not exist.\")\n",
    "        sys.exit(1)\n",
    "\n",
    "    with open(file_path, 'r') as file:\n",
    "        try:\n",
    "            data = json.load(file)\n",
    "            return data\n",
    "        except json.JSONDecodeError as e:\n",
    "            print(f\"Error decoding JSON from file {file_path}: {e}\")\n",
    "            sys.exit(1)\n",
    "\n",
    "# Parse a single Instagram post (items[0]) using jmespath\n",
    "def parse_post_json(data: dict) -> dict:\n",
    "    return jmespath.search(\n",
    "        \"\"\"{\n",
    "            shortcode: code,\n",
    "            caption: caption.text,\n",
    "            head_image_url: image_versions2.candidates[0].url,\n",
    "            audio_type: music_metadata.audio_type,\n",
    "            music_title: music_metadata.music_info.music_asset_info.title,\n",
    "            music_artist: music_metadata.music_info.music_asset_info.display_artist\n",
    "        }\"\"\",\n",
    "        data,\n",
    "    )\n",
    "\n",
    "# Extract all parsed posts from a combined user-post JSON\n",
    "def extract_all_posts(json_data: dict):\n",
    "    parsed_posts = []\n",
    "\n",
    "    for username, posts_dict in json_data.items():\n",
    "        for post_url, post_data in posts_dict.items():\n",
    "            items = post_data.get(\"items\", [])\n",
    "            if items:  # Only if not empty\n",
    "                parsed = parse_post_json(items[0])\n",
    "                if parsed:\n",
    "                    parsed[\"username\"] = username  # Add source username\n",
    "                    parsed_posts.append(parsed)\n",
    "\n",
    "    return parsed_posts\n"
   ]
  },
  {
   "cell_type": "code",
   "execution_count": 5,
   "metadata": {},
   "outputs": [],
   "source": [
    "# Load file\n",
    "raw_json_data = load_json_file(\"json/all_instagram_data.json\")\n",
    "\n",
    "# Parse all valid posts\n",
    "parsed_posts = extract_all_posts(raw_json_data)"
   ]
  },
  {
   "cell_type": "code",
   "execution_count": 6,
   "metadata": {},
   "outputs": [
    {
     "data": {
      "text/plain": [
       "991"
      ]
     },
     "execution_count": 6,
     "metadata": {},
     "output_type": "execute_result"
    }
   ],
   "source": [
    "import pandas as pd\n",
    "\n",
    "df = pd.DataFrame(parsed_posts)\n",
    "len(df)"
   ]
  },
  {
   "cell_type": "code",
   "execution_count": 7,
   "metadata": {},
   "outputs": [
    {
     "data": {
      "text/html": [
       "<div>\n",
       "<style scoped>\n",
       "    .dataframe tbody tr th:only-of-type {\n",
       "        vertical-align: middle;\n",
       "    }\n",
       "\n",
       "    .dataframe tbody tr th {\n",
       "        vertical-align: top;\n",
       "    }\n",
       "\n",
       "    .dataframe thead th {\n",
       "        text-align: right;\n",
       "    }\n",
       "</style>\n",
       "<table border=\"1\" class=\"dataframe\">\n",
       "  <thead>\n",
       "    <tr style=\"text-align: right;\">\n",
       "      <th></th>\n",
       "      <th>shortcode</th>\n",
       "      <th>head_image_url</th>\n",
       "      <th>music_title</th>\n",
       "      <th>music_artist</th>\n",
       "    </tr>\n",
       "  </thead>\n",
       "  <tbody>\n",
       "    <tr>\n",
       "      <th>81</th>\n",
       "      <td>DHqyEKlx45m</td>\n",
       "      <td>https://scontent-lax3-1.cdninstagram.com/v/t51...</td>\n",
       "      <td>Call Me When You Break Up</td>\n",
       "      <td>Selena Gomez, benny blanco, Gracie Abrams</td>\n",
       "    </tr>\n",
       "    <tr>\n",
       "      <th>92</th>\n",
       "      <td>DHKpuJEtril</td>\n",
       "      <td>https://scontent-lax3-2.cdninstagram.com/v/t51...</td>\n",
       "      <td>Sunset Blvd</td>\n",
       "      <td>Selena Gomez, benny blanco</td>\n",
       "    </tr>\n",
       "    <tr>\n",
       "      <th>104</th>\n",
       "      <td>C6bGvvzvQma</td>\n",
       "      <td>https://scontent-lax3-1.cdninstagram.com/v/t51...</td>\n",
       "      <td>Perfect</td>\n",
       "      <td>Ed Sheeran</td>\n",
       "    </tr>\n",
       "    <tr>\n",
       "      <th>107</th>\n",
       "      <td>C0vRPnvoIAa</td>\n",
       "      <td>https://scontent-lax3-1.cdninstagram.com/v/t51...</td>\n",
       "      <td>Those Eyes</td>\n",
       "      <td>New West</td>\n",
       "    </tr>\n",
       "    <tr>\n",
       "      <th>165</th>\n",
       "      <td>C_gUrFoSjoi</td>\n",
       "      <td>https://scontent-lax3-1.cdninstagram.com/v/t51...</td>\n",
       "      <td>I've Been In Love (feat. Channel Tres)</td>\n",
       "      <td>Jungle</td>\n",
       "    </tr>\n",
       "    <tr>\n",
       "      <th>...</th>\n",
       "      <td>...</td>\n",
       "      <td>...</td>\n",
       "      <td>...</td>\n",
       "      <td>...</td>\n",
       "    </tr>\n",
       "    <tr>\n",
       "      <th>971</th>\n",
       "      <td>DDqSwt_z8nJ</td>\n",
       "      <td>https://scontent-lax3-1.cdninstagram.com/v/t51...</td>\n",
       "      <td>Be Be Your Love</td>\n",
       "      <td>Rachael Yamagata</td>\n",
       "    </tr>\n",
       "    <tr>\n",
       "      <th>972</th>\n",
       "      <td>DCyN-bJTPBy</td>\n",
       "      <td>https://scontent-lax3-1.cdninstagram.com/v/t51...</td>\n",
       "      <td>Choose You</td>\n",
       "      <td>Elmiene</td>\n",
       "    </tr>\n",
       "    <tr>\n",
       "      <th>975</th>\n",
       "      <td>DCWjVQ5Tt71</td>\n",
       "      <td>https://scontent-lax3-2.cdninstagram.com/v/t51...</td>\n",
       "      <td>Wings</td>\n",
       "      <td>Mot</td>\n",
       "    </tr>\n",
       "    <tr>\n",
       "      <th>987</th>\n",
       "      <td>DAgUVg_TFDp</td>\n",
       "      <td>https://scontent-lax3-2.cdninstagram.com/v/t51...</td>\n",
       "      <td>hotline (edit)</td>\n",
       "      <td>Billie Eilish</td>\n",
       "    </tr>\n",
       "    <tr>\n",
       "      <th>989</th>\n",
       "      <td>DB7AzCbx-fX</td>\n",
       "      <td>https://scontent-lax3-1.cdninstagram.com/v/t51...</td>\n",
       "      <td>Every Girl Gets Her Wish</td>\n",
       "      <td>Saint Avangeline</td>\n",
       "    </tr>\n",
       "  </tbody>\n",
       "</table>\n",
       "<p>500 rows × 4 columns</p>\n",
       "</div>"
      ],
      "text/plain": [
       "       shortcode                                     head_image_url  \\\n",
       "81   DHqyEKlx45m  https://scontent-lax3-1.cdninstagram.com/v/t51...   \n",
       "92   DHKpuJEtril  https://scontent-lax3-2.cdninstagram.com/v/t51...   \n",
       "104  C6bGvvzvQma  https://scontent-lax3-1.cdninstagram.com/v/t51...   \n",
       "107  C0vRPnvoIAa  https://scontent-lax3-1.cdninstagram.com/v/t51...   \n",
       "165  C_gUrFoSjoi  https://scontent-lax3-1.cdninstagram.com/v/t51...   \n",
       "..           ...                                                ...   \n",
       "971  DDqSwt_z8nJ  https://scontent-lax3-1.cdninstagram.com/v/t51...   \n",
       "972  DCyN-bJTPBy  https://scontent-lax3-1.cdninstagram.com/v/t51...   \n",
       "975  DCWjVQ5Tt71  https://scontent-lax3-2.cdninstagram.com/v/t51...   \n",
       "987  DAgUVg_TFDp  https://scontent-lax3-2.cdninstagram.com/v/t51...   \n",
       "989  DB7AzCbx-fX  https://scontent-lax3-1.cdninstagram.com/v/t51...   \n",
       "\n",
       "                                music_title  \\\n",
       "81                Call Me When You Break Up   \n",
       "92                              Sunset Blvd   \n",
       "104                                 Perfect   \n",
       "107                              Those Eyes   \n",
       "165  I've Been In Love (feat. Channel Tres)   \n",
       "..                                      ...   \n",
       "971                         Be Be Your Love   \n",
       "972                              Choose You   \n",
       "975                                   Wings   \n",
       "987                          hotline (edit)   \n",
       "989                Every Girl Gets Her Wish   \n",
       "\n",
       "                                  music_artist  \n",
       "81   Selena Gomez, benny blanco, Gracie Abrams  \n",
       "92                  Selena Gomez, benny blanco  \n",
       "104                                 Ed Sheeran  \n",
       "107                                   New West  \n",
       "165                                     Jungle  \n",
       "..                                         ...  \n",
       "971                           Rachael Yamagata  \n",
       "972                                    Elmiene  \n",
       "975                                        Mot  \n",
       "987                              Billie Eilish  \n",
       "989                           Saint Avangeline  \n",
       "\n",
       "[500 rows x 4 columns]"
      ]
     },
     "execution_count": 7,
     "metadata": {},
     "output_type": "execute_result"
    }
   ],
   "source": [
    "# for all \"None\" on audio type, remove them\n",
    "df = df[df['audio_type'] == 'licensed_music']\n",
    "\n",
    "# remove id, caption, audio type, \n",
    "df = df.drop(columns=['username', 'caption', 'audio_type'])\n",
    "\n",
    "df"
   ]
  },
  {
   "cell_type": "code",
   "execution_count": null,
   "metadata": {},
   "outputs": [],
   "source": [
    "df_old = pd.read_csv(\"csv/all_instagram_data.csv\")\n",
    "\n",
    "#concat\n",
    "df = pd.concat([df_old, df], ignore_index=True)\n",
    "# remove duplicates\n",
    "df = df.drop_duplicates()\n",
    "# save to csv\n",
    "df.to_csv(\"csv/all_instagram_data.csv\", index=False)"
   ]
  },
  {
   "cell_type": "markdown",
   "metadata": {},
   "source": []
  }
 ],
 "metadata": {
  "kernelspec": {
   "display_name": "basic-venv",
   "language": "python",
   "name": "python3"
  },
  "language_info": {
   "codemirror_mode": {
    "name": "ipython",
    "version": 3
   },
   "file_extension": ".py",
   "mimetype": "text/x-python",
   "name": "python",
   "nbconvert_exporter": "python",
   "pygments_lexer": "ipython3",
   "version": "3.13.2"
  }
 },
 "nbformat": 4,
 "nbformat_minor": 2
}
