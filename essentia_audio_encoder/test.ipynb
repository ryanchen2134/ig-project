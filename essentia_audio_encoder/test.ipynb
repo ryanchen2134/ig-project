{
 "cells": [
  {
   "cell_type": "code",
   "execution_count": 2,
   "id": "3631182f",
   "metadata": {},
   "outputs": [],
   "source": [
    "import pandas as pd"
   ]
  },
  {
   "cell_type": "code",
   "execution_count": 3,
   "id": "0f05eeb3",
   "metadata": {},
   "outputs": [],
   "source": [
    "df = pd.read_csv('rawr_dinosaur.csv')\n"
   ]
  },
  {
   "cell_type": "code",
   "execution_count": 7,
   "id": "89b1310a",
   "metadata": {},
   "outputs": [
    {
     "data": {
      "text/plain": [
       "0       DHqyEKlx45m\n",
       "1       DHKpuJEtril\n",
       "2       C6bGvvzvQma\n",
       "3       C0vRPnvoIAa\n",
       "4       C_gUrFoSjoi\n",
       "           ...     \n",
       "1242    DDr4onVRSZO\n",
       "1243    DH1I3O7R3S-\n",
       "1244    C_JD1cuRHwa\n",
       "1245    DHbOZDTxA2T\n",
       "1246    DDkPa1TRRhK\n",
       "Name: shortcode, Length: 1247, dtype: object"
      ]
     },
     "execution_count": 7,
     "metadata": {},
     "output_type": "execute_result"
    }
   ],
   "source": [
    "df"
   ]
  },
  {
   "cell_type": "code",
   "execution_count": 9,
   "id": "f121864f",
   "metadata": {},
   "outputs": [
    {
     "data": {
      "text/plain": [
       "0       DHqyEKlx45m\n",
       "1       DHKpuJEtril\n",
       "2       C6bGvvzvQma\n",
       "3       C0vRPnvoIAa\n",
       "4       C_gUrFoSjoi\n",
       "           ...     \n",
       "1242    DDr4onVRSZO\n",
       "1243    DH1I3O7R3S-\n",
       "1244    C_JD1cuRHwa\n",
       "1245    DHbOZDTxA2T\n",
       "1246    DDkPa1TRRhK\n",
       "Name: shortcode, Length: 1247, dtype: object"
      ]
     },
     "execution_count": 9,
     "metadata": {},
     "output_type": "execute_result"
    }
   ],
   "source": [
    "df.drop_duplicates()"
   ]
  },
  {
   "cell_type": "code",
   "execution_count": 9,
   "id": "45d6366b",
   "metadata": {},
   "outputs": [
    {
     "data": {
      "text/plain": [
       "539"
      ]
     },
     "execution_count": 9,
     "metadata": {},
     "output_type": "execute_result"
    }
   ],
   "source": [
    "len(df)"
   ]
  },
  {
   "cell_type": "code",
   "execution_count": null,
   "id": "4a4dd496",
   "metadata": {},
   "outputs": [],
   "source": [
    "pd.read_csv('song_vector/A. G. Cook - Lucifer.csv')"
   ]
  }
 ],
 "metadata": {
  "kernelspec": {
   "display_name": "ai",
   "language": "python",
   "name": "python3"
  },
  "language_info": {
   "codemirror_mode": {
    "name": "ipython",
    "version": 3
   },
   "file_extension": ".py",
   "mimetype": "text/x-python",
   "name": "python",
   "nbconvert_exporter": "python",
   "pygments_lexer": "ipython3",
   "version": "3.8.20"
  }
 },
 "nbformat": 4,
 "nbformat_minor": 5
}
