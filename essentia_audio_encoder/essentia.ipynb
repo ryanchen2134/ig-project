{
 "cells": [
  {
   "cell_type": "code",
   "execution_count": null,
   "metadata": {},
   "outputs": [
    {
     "name": "stdout",
     "output_type": "stream",
     "text": [
      "Requirement already satisfied: pandas in /opt/anaconda3/envs/ai/lib/python3.8/site-packages (2.0.3)\n",
      "Requirement already satisfied: scikit-learn in /opt/anaconda3/envs/ai/lib/python3.8/site-packages (1.3.2)\n",
      "Requirement already satisfied: torch in /opt/anaconda3/envs/ai/lib/python3.8/site-packages (2.4.1)\n",
      "Requirement already satisfied: essentia in /opt/anaconda3/envs/ai/lib/python3.8/site-packages (2.1b6.dev1177)\n",
      "Requirement already satisfied: python-dateutil>=2.8.2 in /opt/anaconda3/envs/ai/lib/python3.8/site-packages (from pandas) (2.9.0)\n",
      "Requirement already satisfied: pytz>=2020.1 in /opt/anaconda3/envs/ai/lib/python3.8/site-packages (from pandas) (2025.1)\n",
      "Requirement already satisfied: tzdata>=2022.1 in /opt/anaconda3/envs/ai/lib/python3.8/site-packages (from pandas) (2025.1)\n",
      "Requirement already satisfied: numpy>=1.20.3 in /opt/anaconda3/envs/ai/lib/python3.8/site-packages (from pandas) (1.24.4)\n",
      "Requirement already satisfied: scipy>=1.5.0 in /opt/anaconda3/envs/ai/lib/python3.8/site-packages (from scikit-learn) (1.10.1)\n",
      "Requirement already satisfied: joblib>=1.1.1 in /opt/anaconda3/envs/ai/lib/python3.8/site-packages (from scikit-learn) (1.4.2)\n",
      "Requirement already satisfied: threadpoolctl>=2.0.0 in /opt/anaconda3/envs/ai/lib/python3.8/site-packages (from scikit-learn) (3.5.0)\n",
      "Requirement already satisfied: filelock in /opt/anaconda3/envs/ai/lib/python3.8/site-packages (from torch) (3.16.1)\n",
      "Requirement already satisfied: typing-extensions>=4.8.0 in /opt/anaconda3/envs/ai/lib/python3.8/site-packages (from torch) (4.12.2)\n",
      "Requirement already satisfied: sympy in /opt/anaconda3/envs/ai/lib/python3.8/site-packages (from torch) (1.13.3)\n",
      "Requirement already satisfied: networkx in /opt/anaconda3/envs/ai/lib/python3.8/site-packages (from torch) (3.1)\n",
      "Requirement already satisfied: jinja2 in /opt/anaconda3/envs/ai/lib/python3.8/site-packages (from torch) (3.1.6)\n",
      "Requirement already satisfied: fsspec in /opt/anaconda3/envs/ai/lib/python3.8/site-packages (from torch) (2025.3.0)\n",
      "Requirement already satisfied: six in /opt/anaconda3/envs/ai/lib/python3.8/site-packages (from essentia) (1.16.0)\n",
      "Requirement already satisfied: pyyaml in /opt/anaconda3/envs/ai/lib/python3.8/site-packages (from essentia) (6.0.2)\n",
      "Requirement already satisfied: MarkupSafe>=2.0 in /opt/anaconda3/envs/ai/lib/python3.8/site-packages (from jinja2->torch) (2.1.5)\n",
      "Requirement already satisfied: mpmath<1.4,>=1.1.0 in /opt/anaconda3/envs/ai/lib/python3.8/site-packages (from sympy->torch) (1.3.0)\n"
     ]
    }
   ],
   "source": [
    "# make sure to run this on virtual env with python 3.8.20\n",
    "! pip install pandas scikit-learn torch essentia"
   ]
  },
  {
   "cell_type": "code",
   "execution_count": null,
   "metadata": {},
   "outputs": [],
   "source": [
    "import os\n",
    "import json\n",
    "import numpy as np\n",
    "import pandas as pd\n",
    "import torch\n",
    "import torch.nn as nn\n",
    "import essentia.standard as es\n",
    "import torch.nn.functional as F\n",
    "from torch.utils.data import Dataset\n",
    "\n",
    "\n",
    "# creating encoder class to use later\n",
    "class SongAutoencoder(nn.Module):\n",
    "    def __init__(self, input_dim=72, hidden_dim=128, bottleneck_dim=128):\n",
    "        super(SongAutoencoder, self).__init__()\n",
    "\n",
    "        # Use your existing SongEncoder\n",
    "        self.encoder = SongEncoder(input_dim, hidden_dim, bottleneck_dim)\n",
    "\n",
    "        # Add decoder\n",
    "        self.decoder = nn.Sequential(\n",
    "            nn.Linear(bottleneck_dim, hidden_dim),\n",
    "            nn.GELU(),\n",
    "            nn.LayerNorm(hidden_dim),\n",
    "            nn.Linear(hidden_dim, input_dim)\n",
    "        )\n",
    "\n",
    "    def forward(self, x):\n",
    "        encoded = self.encoder(x)\n",
    "        decoded = self.decoder(encoded)\n",
    "        return decoded\n",
    "\n",
    "def train_autoencoder(autoencoder, dataloader, epochs=50, lr=1e-3, device=\"cuda\" if torch.cuda.is_available() else \"cpu\"):\n",
    "    autoencoder = autoencoder.to(device)\n",
    "    optimizer = torch.optim.Adam(autoencoder.parameters(), lr=lr)\n",
    "    criterion = nn.MSELoss()\n",
    "\n",
    "    for epoch in range(epochs):\n",
    "        total_loss = 0\n",
    "        for batch in dataloader:\n",
    "            batch = batch.to(device)\n",
    "            optimizer.zero_grad()\n",
    "\n",
    "            reconstructed = autoencoder(batch)\n",
    "            loss = criterion(reconstructed, batch)\n",
    "            loss.backward()\n",
    "            optimizer.step()\n",
    "\n",
    "            total_loss += loss.item()\n",
    "\n",
    "        print(f\"Epoch {epoch + 1}/{epochs} | Loss: {total_loss / len(dataloader):.4f}\")\n",
    "\n",
    "# after i save features from song into json, i grab specific ones to embed\n",
    "def extract_features_from_json(json_file):\n",
    "\n",
    "    # open json file\n",
    "    with open(json_file, \"r\") as f:\n",
    "        data = json.load(f)\n",
    "\n",
    "    # pick relevant features and return numpy array\n",
    "    features = [\n",
    "\n",
    "        data[\"lowlevel\"][\"average_loudness\"],\n",
    "        data[\"lowlevel\"][\"dissonance\"][\"mean\"],\n",
    "        data[\"lowlevel\"][\"dynamic_complexity\"],\n",
    "        data[\"lowlevel\"][\"spectral_centroid\"][\"mean\"],\n",
    "        data[\"lowlevel\"][\"spectral_flux\"][\"mean\"],\n",
    "        data[\"lowlevel\"][\"spectral_entropy\"][\"mean\"],\n",
    "        data[\"lowlevel\"][\"spectral_rolloff\"][\"mean\"],\n",
    "        data[\"lowlevel\"][\"hfc\"][\"mean\"],\n",
    "\n",
    "        data[\"lowlevel\"][\"pitch_salience\"][\"mean\"],\n",
    "        data[\"lowlevel\"][\"spectral_complexity\"][\"mean\"],\n",
    "        data[\"lowlevel\"][\"spectral_spread\"][\"mean\"],\n",
    "        data[\"lowlevel\"][\"spectral_strongpeak\"][\"mean\"],\n",
    "\n",
    "        *data[\"lowlevel\"][\"barkbands\"][\"mean\"],\n",
    "        *data[\"lowlevel\"][\"mfcc\"][\"mean\"],\n",
    "        *data[\"lowlevel\"][\"gfcc\"][\"mean\"],\n",
    "\n",
    "        data[\"rhythm\"][\"bpm\"],\n",
    "        data[\"rhythm\"][\"danceability\"],\n",
    "        data[\"rhythm\"][\"onset_rate\"],\n",
    "\n",
    "        data[\"tonal\"][\"chords_strength\"][\"mean\"],\n",
    "        data[\"tonal\"][\"hpcp_crest\"][\"mean\"],\n",
    "        data[\"tonal\"][\"hpcp_entropy\"][\"mean\"],\n",
    "        data[\"tonal\"][\"key_krumhansl\"][\"strength\"]\n",
    "\n",
    "    ]\n",
    "\n",
    "    feature_vector = np.array(features)\n",
    "    return feature_vector\n",
    "\n",
    "def save_vector_to_csv(vector, file_path):\n",
    "\n",
    "    # take the vector and save it to a csv file\n",
    "    df = pd.DataFrame([vector])\n",
    "    df.to_csv(file_path, index=False, header=False)\n",
    "\n",
    "    print(f\"Feature vector saved to: {file_path}\")\n",
    "\n",
    "def encode_and_save_song_vectors(csv_file, encoder):\n",
    "\n",
    "    # take the csv file with the vector in it, then encode it\n",
    "    df = pd.read_csv(csv_file, header=None)\n",
    "    song_vector = df.values.flatten().astype(np.float32)\n",
    "\n",
    "    with torch.no_grad():\n",
    "        song_tensor = torch.tensor(song_vector).view(1, -1) \n",
    "        encoded_vector = encoder(song_tensor).squeeze(0).numpy()\n",
    "\n",
    "\n",
    "    save_vector_to_csv(encoded_vector, csv_file)\n",
    "\n",
    "def extract_encode(artist, song_name, audio_folder=\"audio\", json_folder=\"song_features\", csv_folder=\"song_csv\", encoder=None): \n",
    "    audio_file = os.path.join(audio_folder, f\"{artist} - {song_name}.wav\")\n",
    "    json_file = os.path.join(json_folder, f\"{artist} - {song_name}.json\")\n",
    "    csv_file = os.path.join(csv_folder, f\"{artist} - {song_name}.csv\")\n",
    "\n",
    "    vector_folder = \"song_vector\"\n",
    "    vector_csv = os.path.join(vector_folder, f\"{artist} - {song_name}.csv\")\n",
    "\n",
    "    features, _ = es.MusicExtractor(\n",
    "        lowlevelStats=['mean', 'stdev'],\n",
    "        rhythmStats=['mean', 'stdev'],\n",
    "        tonalStats=['mean', 'stdev'])(audio_file)\n",
    "\n",
    "    # features to json -> extract to feature vector -> save to csv\n",
    "    es.YamlOutput(filename=json_file, format='json')(features)\n",
    "    feature_vector = extract_features_from_json(json_file)\n",
    "\n",
    "    save_vector_to_csv(feature_vector, vector_csv)\n",
    "    save_vector_to_csv(feature_vector, csv_file)\n",
    "\n",
    "    # encode and save to csv\n",
    "    if encoder:\n",
    "        encode_and_save_song_vectors(csv_file, encoder)\n",
    "\n",
    "def mass_encoder(csv_file, audio_folder=\"audio\", json_folder=\"song_features\", csv_folder=\"song_csv\", encoder=None):\n",
    "  \n",
    "    # read csv and check if required columns exist\n",
    "    pair_data = pd.read_csv(csv_file)\n",
    "    if not all(col in pair_data.columns for col in [\"shortcode\", \"music_artist\", \"music_title\"]):\n",
    "        raise ValueError(\"CSV file must contain 'shortcode', 'music_artist', and 'music_title' columns.\")\n",
    "    \n",
    "    # filter out rows with nan values in song\n",
    "    pair_data = pair_data[pair_data[\"music_artist\"].notna() & pair_data[\"music_title\"].notna()]\n",
    "\n",
    "    output_file = os.path.join(os.path.dirname(csv_file), \"pairs_songencoded.csv\")\n",
    "    output_data = []\n",
    "    \n",
    "    # tterate through each row in the CSV file\n",
    "    for index, row in pair_data.iterrows():\n",
    "\n",
    "        artist = row[\"music_artist\"].replace(\"'\", \"\")\n",
    "        song_name = row[\"music_title\"].replace(\"'\", \"\")\n",
    "        shortcode = row[\"shortcode\"]\n",
    "        image_link = row[\"head_image_url\"]\n",
    "\n",
    "        print(f\"Processing song {index + 1}: {artist} - {song_name}\")\n",
    "\n",
    "        try:\n",
    "            # extract features and encode the song\n",
    "            extract_encode(\n",
    "                artist=artist,\n",
    "                song_name=song_name,\n",
    "                audio_folder=audio_folder,\n",
    "                json_folder=json_folder,\n",
    "                csv_folder=csv_folder,\n",
    "                encoder=encoder\n",
    "            )\n",
    "\n",
    "            song_csv_path = os.path.join(csv_folder, f\"{artist} - {song_name}.csv\")\n",
    "            embedding_df = pd.read_csv(song_csv_path, header=None)\n",
    "            embedding_vector = embedding_df.values.flatten().tolist()\n",
    "\n",
    "            output_data.append({\n",
    "                \"shortcode\" : shortcode,\n",
    "                \"link\" : image_link,\n",
    "                \"embedding\" : embedding_vector\n",
    "            })\n",
    "\n",
    "            pd.DataFrame(output_data).to_csv(output_file, index=False)\n",
    "\n",
    "        except Exception as e:\n",
    "            print(f\"Failed to process {artist} - {song_name}: {e}\")\n",
    "\n",
    "\n"
   ]
  },
  {
   "cell_type": "code",
   "execution_count": null,
   "metadata": {},
   "outputs": [
    {
     "name": "stdout",
     "output_type": "stream",
     "text": [
      "Processing song 1: John Lennon - Beautiful Boy (Darling Boy)\n",
      "Feature vector saved to: song_vector/John Lennon - Beautiful Boy (Darling Boy).csv\n",
      "Feature vector saved to: song_csv/John Lennon - Beautiful Boy (Darling Boy).csv\n",
      "Feature vector saved to: song_csv/John Lennon - Beautiful Boy (Darling Boy).csv\n",
      "Processing song 2: Pixies - Where Is My Mind? (2007 Remaster)\n",
      "Failed to process Pixies - Where Is My Mind? (2007 Remaster): In MusicExtractor.compute: MetadataReader: File does not exist or does not seem to be of a supported filetype. AudioLoader: Could not open file \"audio/Pixies - Where Is My Mind? (2007 Remaster).wav\", error = No such file or directory\n",
      "Processing song 3: M.I.A. - Bad Girls\n"
     ]
    },
    {
     "name": "stderr",
     "output_type": "stream",
     "text": [
      "[   INFO   ] MusicExtractor: Read metadata\n",
      "[   INFO   ] MusicExtractor: Compute md5 audio hash, codec, length, and EBU 128 loudness\n",
      "[   INFO   ] MusicExtractor: Replay gain\n",
      "[   INFO   ] MusicExtractor: Compute audio features\n",
      "[   INFO   ] MusicExtractor: Compute aggregation\n",
      "[   INFO   ] All done\n",
      "[   INFO   ] MusicExtractor: Read metadata\n",
      "[   INFO   ] MusicExtractor: Read metadata\n",
      "[   INFO   ] MusicExtractor: Compute md5 audio hash, codec, length, and EBU 128 loudness\n",
      "[   INFO   ] MusicExtractor: Replay gain\n",
      "[   INFO   ] MusicExtractor: Compute audio features\n",
      "[   INFO   ] MusicExtractor: Compute aggregation\n",
      "[   INFO   ] All done\n",
      "[   INFO   ] MusicExtractor: Read metadata\n",
      "[   INFO   ] MusicExtractor: Compute md5 audio hash, codec, length, and EBU 128 loudness\n",
      "[   INFO   ] MusicExtractor: Replay gain\n",
      "[   INFO   ] MusicExtractor: Compute audio features\n",
      "[   INFO   ] MusicExtractor: Compute aggregation\n",
      "[   INFO   ] All done\n"
     ]
    },
    {
     "name": "stdout",
     "output_type": "stream",
     "text": [
      "Feature vector saved to: song_vector/M.I.A. - Bad Girls.csv\n",
      "Feature vector saved to: song_csv/M.I.A. - Bad Girls.csv\n",
      "Feature vector saved to: song_csv/M.I.A. - Bad Girls.csv\n",
      "Processing song 4: Soap&Skin - Me and the Devil\n",
      "Feature vector saved to: song_vector/Soap&Skin - Me and the Devil.csv\n",
      "Feature vector saved to: song_csv/Soap&Skin - Me and the Devil.csv\n",
      "Feature vector saved to: song_csv/Soap&Skin - Me and the Devil.csv\n",
      "Processing song 5: Blood Orange - Champagne Coast\n"
     ]
    },
    {
     "name": "stderr",
     "output_type": "stream",
     "text": [
      "[   INFO   ] MusicExtractor: Read metadata\n",
      "[   INFO   ] MusicExtractor: Compute md5 audio hash, codec, length, and EBU 128 loudness\n",
      "[   INFO   ] MusicExtractor: Replay gain\n",
      "[   INFO   ] MusicExtractor: Compute audio features\n",
      "[   INFO   ] MusicExtractor: Compute aggregation\n",
      "[   INFO   ] All done\n",
      "[   INFO   ] MusicExtractor: Read metadata\n",
      "[   INFO   ] MusicExtractor: Compute md5 audio hash, codec, length, and EBU 128 loudness\n",
      "[   INFO   ] MusicExtractor: Replay gain\n",
      "[   INFO   ] MusicExtractor: Compute audio features\n",
      "[   INFO   ] MusicExtractor: Compute aggregation\n",
      "[   INFO   ] All done\n"
     ]
    },
    {
     "name": "stdout",
     "output_type": "stream",
     "text": [
      "Feature vector saved to: song_vector/Blood Orange - Champagne Coast.csv\n",
      "Feature vector saved to: song_csv/Blood Orange - Champagne Coast.csv\n",
      "Feature vector saved to: song_csv/Blood Orange - Champagne Coast.csv\n",
      "Processing song 6: Justin Hurwitz - Mia & Sebastian’s Theme\n",
      "Feature vector saved to: song_vector/Justin Hurwitz - Mia & Sebastian’s Theme.csv\n",
      "Feature vector saved to: song_csv/Justin Hurwitz - Mia & Sebastian’s Theme.csv\n",
      "Feature vector saved to: song_csv/Justin Hurwitz - Mia & Sebastian’s Theme.csv\n",
      "Processing song 8: Empire Of The Sun - We Are The People\n"
     ]
    },
    {
     "name": "stderr",
     "output_type": "stream",
     "text": [
      "[   INFO   ] MusicExtractor: Read metadata\n",
      "[   INFO   ] MusicExtractor: Compute md5 audio hash, codec, length, and EBU 128 loudness\n",
      "[   INFO   ] MusicExtractor: Replay gain\n",
      "[   INFO   ] MusicExtractor: Compute audio features\n",
      "[   INFO   ] MusicExtractor: Compute aggregation\n",
      "[   INFO   ] All done\n",
      "[   INFO   ] MusicExtractor: Read metadata\n",
      "[   INFO   ] MusicExtractor: Compute md5 audio hash, codec, length, and EBU 128 loudness\n",
      "[   INFO   ] MusicExtractor: Replay gain\n",
      "[   INFO   ] MusicExtractor: Compute audio features\n",
      "[   INFO   ] MusicExtractor: Compute aggregation\n",
      "[   INFO   ] All done\n"
     ]
    },
    {
     "name": "stdout",
     "output_type": "stream",
     "text": [
      "Feature vector saved to: song_vector/Empire Of The Sun - We Are The People.csv\n",
      "Feature vector saved to: song_csv/Empire Of The Sun - We Are The People.csv\n",
      "Feature vector saved to: song_csv/Empire Of The Sun - We Are The People.csv\n",
      "Processing song 9: Billy Idol - Eyes Without A Face\n",
      "Feature vector saved to: song_vector/Billy Idol - Eyes Without A Face.csv\n",
      "Feature vector saved to: song_csv/Billy Idol - Eyes Without A Face.csv\n",
      "Feature vector saved to: song_csv/Billy Idol - Eyes Without A Face.csv\n",
      "Processing song 10: The Beatles - Yesterday\n"
     ]
    },
    {
     "name": "stderr",
     "output_type": "stream",
     "text": [
      "[   INFO   ] MusicExtractor: Read metadata\n",
      "[   INFO   ] MusicExtractor: Compute md5 audio hash, codec, length, and EBU 128 loudness\n",
      "[   INFO   ] MusicExtractor: Replay gain\n",
      "[   INFO   ] MusicExtractor: Compute audio features\n",
      "[   INFO   ] MusicExtractor: Compute aggregation\n",
      "[   INFO   ] All done\n"
     ]
    },
    {
     "name": "stdout",
     "output_type": "stream",
     "text": [
      "Feature vector saved to: song_vector/The Beatles - Yesterday.csv\n",
      "Feature vector saved to: song_csv/The Beatles - Yesterday.csv\n",
      "Feature vector saved to: song_csv/The Beatles - Yesterday.csv\n",
      "Processing song 11: The Citizens of Halloween - This Is Halloween\n"
     ]
    },
    {
     "name": "stderr",
     "output_type": "stream",
     "text": [
      "[   INFO   ] MusicExtractor: Read metadata\n",
      "[   INFO   ] MusicExtractor: Compute md5 audio hash, codec, length, and EBU 128 loudness\n",
      "[   INFO   ] MusicExtractor: Replay gain\n",
      "[   INFO   ] MusicExtractor: Compute audio features\n",
      "[   INFO   ] MusicExtractor: Compute aggregation\n",
      "[   INFO   ] All done\n",
      "[   INFO   ] MusicExtractor: Read metadata\n",
      "[   INFO   ] MusicExtractor: Compute md5 audio hash, codec, length, and EBU 128 loudness\n",
      "[   INFO   ] MusicExtractor: Replay gain\n",
      "[   INFO   ] MusicExtractor: Compute audio features\n",
      "[   INFO   ] MusicExtractor: Compute aggregation\n",
      "[   INFO   ] All done\n"
     ]
    },
    {
     "name": "stdout",
     "output_type": "stream",
     "text": [
      "Feature vector saved to: song_vector/The Citizens of Halloween - This Is Halloween.csv\n",
      "Feature vector saved to: song_csv/The Citizens of Halloween - This Is Halloween.csv\n",
      "Feature vector saved to: song_csv/The Citizens of Halloween - This Is Halloween.csv\n",
      "Processing song 12: Daft Punk - Veridis Quo\n",
      "Feature vector saved to: song_vector/Daft Punk - Veridis Quo.csv\n",
      "Feature vector saved to: song_csv/Daft Punk - Veridis Quo.csv\n",
      "Feature vector saved to: song_csv/Daft Punk - Veridis Quo.csv\n",
      "Processing song 13: Otis Redding - Cigarettes and Coffee\n"
     ]
    },
    {
     "name": "stderr",
     "output_type": "stream",
     "text": [
      "[   INFO   ] MusicExtractor: Read metadata\n",
      "[   INFO   ] MusicExtractor: Compute md5 audio hash, codec, length, and EBU 128 loudness\n",
      "[   INFO   ] MusicExtractor: Replay gain\n",
      "[   INFO   ] MusicExtractor: Compute audio features\n",
      "[   INFO   ] MusicExtractor: Compute aggregation\n",
      "[   INFO   ] All done\n",
      "[   INFO   ] MusicExtractor: Read metadata\n"
     ]
    },
    {
     "name": "stdout",
     "output_type": "stream",
     "text": [
      "Feature vector saved to: song_vector/Otis Redding - Cigarettes and Coffee.csv\n",
      "Feature vector saved to: song_csv/Otis Redding - Cigarettes and Coffee.csv\n",
      "Feature vector saved to: song_csv/Otis Redding - Cigarettes and Coffee.csv\n",
      "Processing song 14: Michael Jackson - Earth Song\n"
     ]
    },
    {
     "name": "stderr",
     "output_type": "stream",
     "text": [
      "[   INFO   ] MusicExtractor: Compute md5 audio hash, codec, length, and EBU 128 loudness\n",
      "[   INFO   ] MusicExtractor: Replay gain\n",
      "[   INFO   ] MusicExtractor: Compute audio features\n",
      "[   INFO   ] MusicExtractor: Compute aggregation\n",
      "[   INFO   ] All done\n",
      "[   INFO   ] MusicExtractor: Read metadata\n"
     ]
    },
    {
     "name": "stdout",
     "output_type": "stream",
     "text": [
      "Feature vector saved to: song_vector/Michael Jackson - Earth Song.csv\n",
      "Feature vector saved to: song_csv/Michael Jackson - Earth Song.csv\n",
      "Feature vector saved to: song_csv/Michael Jackson - Earth Song.csv\n",
      "Processing song 15: Michael Jackson - Remember the Time\n"
     ]
    },
    {
     "name": "stderr",
     "output_type": "stream",
     "text": [
      "[   INFO   ] MusicExtractor: Compute md5 audio hash, codec, length, and EBU 128 loudness\n",
      "[   INFO   ] MusicExtractor: Replay gain\n",
      "[   INFO   ] MusicExtractor: Compute audio features\n",
      "[   INFO   ] MusicExtractor: Compute aggregation\n",
      "[   INFO   ] All done\n",
      "[   INFO   ] MusicExtractor: Read metadata\n",
      "[   INFO   ] MusicExtractor: Compute md5 audio hash, codec, length, and EBU 128 loudness\n",
      "[   INFO   ] MusicExtractor: Replay gain\n",
      "[   INFO   ] MusicExtractor: Compute audio features\n",
      "[   INFO   ] MusicExtractor: Compute aggregation\n",
      "[   INFO   ] All done\n"
     ]
    },
    {
     "name": "stdout",
     "output_type": "stream",
     "text": [
      "Feature vector saved to: song_vector/Michael Jackson - Remember the Time.csv\n",
      "Feature vector saved to: song_csv/Michael Jackson - Remember the Time.csv\n",
      "Feature vector saved to: song_csv/Michael Jackson - Remember the Time.csv\n",
      "Processing song 16: Aerosmith - I Dont Want To Miss A Thing\n",
      "Feature vector saved to: song_vector/Aerosmith - I Dont Want To Miss A Thing.csv\n",
      "Feature vector saved to: song_csv/Aerosmith - I Dont Want To Miss A Thing.csv\n",
      "Feature vector saved to: song_csv/Aerosmith - I Dont Want To Miss A Thing.csv\n",
      "Processing song 17: Fleetwood Mac - Everywhere\n"
     ]
    },
    {
     "name": "stderr",
     "output_type": "stream",
     "text": [
      "[   INFO   ] MusicExtractor: Read metadata\n",
      "[   INFO   ] MusicExtractor: Compute md5 audio hash, codec, length, and EBU 128 loudness\n",
      "[   INFO   ] MusicExtractor: Replay gain\n",
      "[   INFO   ] MusicExtractor: Compute audio features\n",
      "[   INFO   ] MusicExtractor: Compute aggregation\n",
      "[   INFO   ] All done\n"
     ]
    },
    {
     "name": "stdout",
     "output_type": "stream",
     "text": [
      "Feature vector saved to: song_vector/Fleetwood Mac - Everywhere.csv\n",
      "Feature vector saved to: song_csv/Fleetwood Mac - Everywhere.csv\n",
      "Feature vector saved to: song_csv/Fleetwood Mac - Everywhere.csv\n",
      "Processing song 18: Daft Punk - Giorgio by Moroder\n"
     ]
    },
    {
     "name": "stderr",
     "output_type": "stream",
     "text": [
      "[   INFO   ] MusicExtractor: Read metadata\n",
      "[   INFO   ] MusicExtractor: Compute md5 audio hash, codec, length, and EBU 128 loudness\n",
      "[   INFO   ] MusicExtractor: Replay gain\n",
      "[   INFO   ] MusicExtractor: Compute audio features\n",
      "[   INFO   ] MusicExtractor: Compute aggregation\n",
      "[   INFO   ] All done\n",
      "[   INFO   ] MusicExtractor: Read metadata\n",
      "[   INFO   ] MusicExtractor: Compute md5 audio hash, codec, length, and EBU 128 loudness\n",
      "[   INFO   ] MusicExtractor: Replay gain\n",
      "[   INFO   ] MusicExtractor: Compute audio features\n",
      "[   INFO   ] MusicExtractor: Compute aggregation\n",
      "[   INFO   ] All done\n"
     ]
    },
    {
     "name": "stdout",
     "output_type": "stream",
     "text": [
      "Feature vector saved to: song_vector/Daft Punk - Giorgio by Moroder.csv\n",
      "Feature vector saved to: song_csv/Daft Punk - Giorgio by Moroder.csv\n",
      "Feature vector saved to: song_csv/Daft Punk - Giorgio by Moroder.csv\n",
      "Processing song 19: Chris Isaak - Wicked Game\n",
      "Feature vector saved to: song_vector/Chris Isaak - Wicked Game.csv\n",
      "Feature vector saved to: song_csv/Chris Isaak - Wicked Game.csv\n",
      "Feature vector saved to: song_csv/Chris Isaak - Wicked Game.csv\n",
      "Processing song 20: BigXthaPlug - Mmhmm\n"
     ]
    },
    {
     "name": "stderr",
     "output_type": "stream",
     "text": [
      "[   INFO   ] MusicExtractor: Read metadata\n",
      "[   INFO   ] MusicExtractor: Compute md5 audio hash, codec, length, and EBU 128 loudness\n",
      "[   INFO   ] MusicExtractor: Replay gain\n",
      "[   INFO   ] MusicExtractor: Compute audio features\n",
      "[   INFO   ] MusicExtractor: Compute aggregation\n",
      "[   INFO   ] All done\n",
      "[   INFO   ] MusicExtractor: Read metadata\n",
      "[   INFO   ] MusicExtractor: Compute md5 audio hash, codec, length, and EBU 128 loudness\n",
      "[   INFO   ] MusicExtractor: Replay gain\n",
      "[   INFO   ] MusicExtractor: Compute audio features\n",
      "[   INFO   ] MusicExtractor: Compute aggregation\n",
      "[   INFO   ] All done\n"
     ]
    },
    {
     "name": "stdout",
     "output_type": "stream",
     "text": [
      "Feature vector saved to: song_vector/BigXthaPlug - Mmhmm.csv\n",
      "Feature vector saved to: song_csv/BigXthaPlug - Mmhmm.csv\n",
      "Feature vector saved to: song_csv/BigXthaPlug - Mmhmm.csv\n",
      "Processing song 21: NLE Choppa, BigXthaPlug - PISTOL PACCIN\n",
      "Feature vector saved to: song_vector/NLE Choppa, BigXthaPlug - PISTOL PACCIN.csv\n",
      "Feature vector saved to: song_csv/NLE Choppa, BigXthaPlug - PISTOL PACCIN.csv\n",
      "Feature vector saved to: song_csv/NLE Choppa, BigXthaPlug - PISTOL PACCIN.csv\n",
      "Processing song 22: Sam Barber - Straight and Narrow\n"
     ]
    },
    {
     "name": "stderr",
     "output_type": "stream",
     "text": [
      "[   INFO   ] MusicExtractor: Read metadata\n",
      "[   INFO   ] MusicExtractor: Compute md5 audio hash, codec, length, and EBU 128 loudness\n",
      "[   INFO   ] MusicExtractor: Replay gain\n",
      "[   INFO   ] MusicExtractor: Compute audio features\n",
      "[   INFO   ] MusicExtractor: Compute aggregation\n",
      "[   INFO   ] All done\n"
     ]
    },
    {
     "name": "stdout",
     "output_type": "stream",
     "text": [
      "Feature vector saved to: song_vector/Sam Barber - Straight and Narrow.csv\n",
      "Feature vector saved to: song_csv/Sam Barber - Straight and Narrow.csv\n",
      "Feature vector saved to: song_csv/Sam Barber - Straight and Narrow.csv\n",
      "Processing song 23: Owen Wilson - Dont Give Up On Us\n"
     ]
    },
    {
     "name": "stderr",
     "output_type": "stream",
     "text": [
      "[   INFO   ] MusicExtractor: Read metadata\n",
      "[   INFO   ] MusicExtractor: Compute md5 audio hash, codec, length, and EBU 128 loudness\n",
      "[   INFO   ] MusicExtractor: Replay gain\n",
      "[   INFO   ] MusicExtractor: Compute audio features\n",
      "[   INFO   ] MusicExtractor: Compute aggregation\n",
      "[   INFO   ] All done\n",
      "[   INFO   ] MusicExtractor: Read metadata\n",
      "[   INFO   ] MusicExtractor: Compute md5 audio hash, codec, length, and EBU 128 loudness\n",
      "[   INFO   ] MusicExtractor: Replay gain\n",
      "[   INFO   ] MusicExtractor: Compute audio features\n",
      "[   INFO   ] MusicExtractor: Compute aggregation\n",
      "[   INFO   ] All done\n"
     ]
    },
    {
     "name": "stdout",
     "output_type": "stream",
     "text": [
      "Feature vector saved to: song_vector/Owen Wilson - Dont Give Up On Us.csv\n",
      "Feature vector saved to: song_csv/Owen Wilson - Dont Give Up On Us.csv\n",
      "Feature vector saved to: song_csv/Owen Wilson - Dont Give Up On Us.csv\n",
      "Processing song 24: BigXthaPlug, Tommy Newport - Comes & Goes (feat. Tommy Newport)\n",
      "Feature vector saved to: song_vector/BigXthaPlug, Tommy Newport - Comes & Goes (feat. Tommy Newport).csv\n",
      "Feature vector saved to: song_csv/BigXthaPlug, Tommy Newport - Comes & Goes (feat. Tommy Newport).csv\n",
      "Feature vector saved to: song_csv/BigXthaPlug, Tommy Newport - Comes & Goes (feat. Tommy Newport).csv\n",
      "Processing song 25: Wiz Khalifa - Young, Wild & Free (feat. Bruno Mars)\n"
     ]
    },
    {
     "name": "stderr",
     "output_type": "stream",
     "text": [
      "[   INFO   ] MusicExtractor: Read metadata\n",
      "[   INFO   ] MusicExtractor: Compute md5 audio hash, codec, length, and EBU 128 loudness\n",
      "[   INFO   ] MusicExtractor: Replay gain\n",
      "[   INFO   ] MusicExtractor: Compute audio features\n",
      "[   INFO   ] MusicExtractor: Compute aggregation\n",
      "[   INFO   ] All done\n",
      "[   INFO   ] MusicExtractor: Read metadata\n",
      "[   INFO   ] MusicExtractor: Compute md5 audio hash, codec, length, and EBU 128 loudness\n",
      "[   INFO   ] MusicExtractor: Replay gain\n",
      "[   INFO   ] MusicExtractor: Compute audio features\n",
      "[   INFO   ] MusicExtractor: Compute aggregation\n",
      "[   INFO   ] All done\n"
     ]
    },
    {
     "name": "stdout",
     "output_type": "stream",
     "text": [
      "Feature vector saved to: song_vector/Wiz Khalifa - Young, Wild & Free (feat. Bruno Mars).csv\n",
      "Feature vector saved to: song_csv/Wiz Khalifa - Young, Wild & Free (feat. Bruno Mars).csv\n",
      "Feature vector saved to: song_csv/Wiz Khalifa - Young, Wild & Free (feat. Bruno Mars).csv\n",
      "Processing song 26: Sam R Barber - As Time Passes\n",
      "Feature vector saved to: song_vector/Sam R Barber - As Time Passes.csv\n",
      "Feature vector saved to: song_csv/Sam R Barber - As Time Passes.csv\n",
      "Feature vector saved to: song_csv/Sam R Barber - As Time Passes.csv\n",
      "Processing song 27: Billy Idol - White Wedding\n"
     ]
    },
    {
     "name": "stderr",
     "output_type": "stream",
     "text": [
      "[   INFO   ] MusicExtractor: Read metadata\n",
      "[   INFO   ] MusicExtractor: Compute md5 audio hash, codec, length, and EBU 128 loudness\n",
      "[   INFO   ] MusicExtractor: Replay gain\n",
      "[   INFO   ] MusicExtractor: Compute audio features\n",
      "[   INFO   ] MusicExtractor: Compute aggregation\n",
      "[   INFO   ] All done\n",
      "[   INFO   ] MusicExtractor: Read metadata\n"
     ]
    },
    {
     "name": "stdout",
     "output_type": "stream",
     "text": [
      "Feature vector saved to: song_vector/Billy Idol - White Wedding.csv\n",
      "Feature vector saved to: song_csv/Billy Idol - White Wedding.csv\n",
      "Feature vector saved to: song_csv/Billy Idol - White Wedding.csv\n",
      "Processing song 29: The Red Clay Strays - Wondering Why\n"
     ]
    },
    {
     "name": "stderr",
     "output_type": "stream",
     "text": [
      "[   INFO   ] MusicExtractor: Compute md5 audio hash, codec, length, and EBU 128 loudness\n",
      "[   INFO   ] MusicExtractor: Replay gain\n",
      "[   INFO   ] MusicExtractor: Compute audio features\n",
      "[   INFO   ] MusicExtractor: Compute aggregation\n",
      "[   INFO   ] All done\n"
     ]
    },
    {
     "name": "stdout",
     "output_type": "stream",
     "text": [
      "Feature vector saved to: song_vector/The Red Clay Strays - Wondering Why.csv\n",
      "Feature vector saved to: song_csv/The Red Clay Strays - Wondering Why.csv\n",
      "Feature vector saved to: song_csv/The Red Clay Strays - Wondering Why.csv\n",
      "Processing song 30: Travis Scott - Antidote\n"
     ]
    },
    {
     "name": "stderr",
     "output_type": "stream",
     "text": [
      "[   INFO   ] MusicExtractor: Read metadata\n",
      "[   INFO   ] MusicExtractor: Compute md5 audio hash, codec, length, and EBU 128 loudness\n",
      "[   INFO   ] MusicExtractor: Replay gain\n",
      "[   INFO   ] MusicExtractor: Compute audio features\n",
      "[   INFO   ] MusicExtractor: Compute aggregation\n",
      "[   INFO   ] All done\n",
      "[   INFO   ] MusicExtractor: Read metadata\n"
     ]
    },
    {
     "name": "stdout",
     "output_type": "stream",
     "text": [
      "Feature vector saved to: song_vector/Travis Scott - Antidote.csv\n",
      "Feature vector saved to: song_csv/Travis Scott - Antidote.csv\n",
      "Feature vector saved to: song_csv/Travis Scott - Antidote.csv\n",
      "Processing song 32: George Strait - All My Exs Live In Texas\n"
     ]
    },
    {
     "name": "stderr",
     "output_type": "stream",
     "text": [
      "[   INFO   ] MusicExtractor: Compute md5 audio hash, codec, length, and EBU 128 loudness\n",
      "[   INFO   ] MusicExtractor: Replay gain\n",
      "[   INFO   ] MusicExtractor: Compute audio features\n",
      "[   INFO   ] MusicExtractor: Compute aggregation\n",
      "[   INFO   ] All done\n",
      "[   INFO   ] MusicExtractor: Read metadata\n",
      "[   INFO   ] MusicExtractor: Compute md5 audio hash, codec, length, and EBU 128 loudness\n",
      "[   INFO   ] MusicExtractor: Replay gain\n",
      "[   INFO   ] MusicExtractor: Compute audio features\n",
      "[   INFO   ] MusicExtractor: Compute aggregation\n",
      "[   INFO   ] All done\n"
     ]
    },
    {
     "name": "stdout",
     "output_type": "stream",
     "text": [
      "Feature vector saved to: song_vector/George Strait - All My Exs Live In Texas.csv\n",
      "Feature vector saved to: song_csv/George Strait - All My Exs Live In Texas.csv\n",
      "Feature vector saved to: song_csv/George Strait - All My Exs Live In Texas.csv\n",
      "Processing song 34: Nelly - Grillz (feat. Paul Wall, Ali & Gipp)\n",
      "Feature vector saved to: song_vector/Nelly - Grillz (feat. Paul Wall, Ali & Gipp).csv\n",
      "Feature vector saved to: song_csv/Nelly - Grillz (feat. Paul Wall, Ali & Gipp).csv\n",
      "Feature vector saved to: song_csv/Nelly - Grillz (feat. Paul Wall, Ali & Gipp).csv\n",
      "Processing song 35: Kate Bush - Running Up That Hill (A Deal With God) [2018 Remaster]\n"
     ]
    },
    {
     "name": "stderr",
     "output_type": "stream",
     "text": [
      "[   INFO   ] MusicExtractor: Read metadata\n",
      "[   INFO   ] MusicExtractor: Compute md5 audio hash, codec, length, and EBU 128 loudness\n",
      "[   INFO   ] MusicExtractor: Replay gain\n",
      "[   INFO   ] MusicExtractor: Compute audio features\n",
      "[   INFO   ] MusicExtractor: Compute aggregation\n",
      "[   INFO   ] All done\n"
     ]
    },
    {
     "name": "stdout",
     "output_type": "stream",
     "text": [
      "Feature vector saved to: song_vector/Kate Bush - Running Up That Hill (A Deal With God) [2018 Remaster].csv\n",
      "Feature vector saved to: song_csv/Kate Bush - Running Up That Hill (A Deal With God) [2018 Remaster].csv\n",
      "Feature vector saved to: song_csv/Kate Bush - Running Up That Hill (A Deal With God) [2018 Remaster].csv\n",
      "Processing song 36: Billy Idol - Rebel Yell\n"
     ]
    },
    {
     "name": "stderr",
     "output_type": "stream",
     "text": [
      "[   INFO   ] MusicExtractor: Read metadata\n",
      "[   INFO   ] MusicExtractor: Compute md5 audio hash, codec, length, and EBU 128 loudness\n",
      "[   INFO   ] MusicExtractor: Replay gain\n",
      "[   INFO   ] MusicExtractor: Compute audio features\n",
      "[   INFO   ] MusicExtractor: Compute aggregation\n",
      "[   INFO   ] All done\n"
     ]
    },
    {
     "name": "stdout",
     "output_type": "stream",
     "text": [
      "Feature vector saved to: song_vector/Billy Idol - Rebel Yell.csv\n",
      "Feature vector saved to: song_csv/Billy Idol - Rebel Yell.csv\n",
      "Feature vector saved to: song_csv/Billy Idol - Rebel Yell.csv\n",
      "Processing song 37: Shaboozey - Drink Dont Need No Mix (feat. BigXthaPlug)\n"
     ]
    },
    {
     "name": "stderr",
     "output_type": "stream",
     "text": [
      "[   INFO   ] MusicExtractor: Read metadata\n",
      "[   INFO   ] MusicExtractor: Compute md5 audio hash, codec, length, and EBU 128 loudness\n",
      "[   INFO   ] MusicExtractor: Replay gain\n",
      "[   INFO   ] MusicExtractor: Compute audio features\n",
      "[   INFO   ] MusicExtractor: Compute aggregation\n",
      "[   INFO   ] All done\n"
     ]
    },
    {
     "name": "stdout",
     "output_type": "stream",
     "text": [
      "Feature vector saved to: song_vector/Shaboozey - Drink Dont Need No Mix (feat. BigXthaPlug).csv\n",
      "Feature vector saved to: song_csv/Shaboozey - Drink Dont Need No Mix (feat. BigXthaPlug).csv\n",
      "Feature vector saved to: song_csv/Shaboozey - Drink Dont Need No Mix (feat. BigXthaPlug).csv\n",
      "Processing song 38: Tommy Richman - ACTIN UP\n"
     ]
    },
    {
     "name": "stderr",
     "output_type": "stream",
     "text": [
      "[   INFO   ] MusicExtractor: Read metadata\n",
      "[   INFO   ] MusicExtractor: Compute md5 audio hash, codec, length, and EBU 128 loudness\n",
      "[   INFO   ] MusicExtractor: Replay gain\n",
      "[   INFO   ] MusicExtractor: Compute audio features\n",
      "[   INFO   ] MusicExtractor: Compute aggregation\n",
      "[   INFO   ] All done\n",
      "[   INFO   ] MusicExtractor: Read metadata\n"
     ]
    },
    {
     "name": "stdout",
     "output_type": "stream",
     "text": [
      "Feature vector saved to: song_vector/Tommy Richman - ACTIN UP.csv\n",
      "Feature vector saved to: song_csv/Tommy Richman - ACTIN UP.csv\n",
      "Feature vector saved to: song_csv/Tommy Richman - ACTIN UP.csv\n",
      "Processing song 39: Hannah Montana - Ordinary Girl\n"
     ]
    },
    {
     "name": "stderr",
     "output_type": "stream",
     "text": [
      "[   INFO   ] MusicExtractor: Compute md5 audio hash, codec, length, and EBU 128 loudness\n",
      "[   INFO   ] MusicExtractor: Replay gain\n",
      "[   INFO   ] MusicExtractor: Compute audio features\n",
      "[   INFO   ] MusicExtractor: Compute aggregation\n",
      "[   INFO   ] All done\n"
     ]
    },
    {
     "name": "stdout",
     "output_type": "stream",
     "text": [
      "Feature vector saved to: song_vector/Hannah Montana - Ordinary Girl.csv\n",
      "Feature vector saved to: song_csv/Hannah Montana - Ordinary Girl.csv\n",
      "Feature vector saved to: song_csv/Hannah Montana - Ordinary Girl.csv\n",
      "Processing song 40: Sam R Barber - As Time Passes\n"
     ]
    },
    {
     "name": "stderr",
     "output_type": "stream",
     "text": [
      "[   INFO   ] MusicExtractor: Read metadata\n",
      "[   INFO   ] MusicExtractor: Compute md5 audio hash, codec, length, and EBU 128 loudness\n",
      "[   INFO   ] MusicExtractor: Replay gain\n",
      "[   INFO   ] MusicExtractor: Compute audio features\n",
      "[   INFO   ] MusicExtractor: Compute aggregation\n",
      "[   INFO   ] All done\n"
     ]
    },
    {
     "name": "stdout",
     "output_type": "stream",
     "text": [
      "Feature vector saved to: song_vector/Sam R Barber - As Time Passes.csv\n",
      "Feature vector saved to: song_csv/Sam R Barber - As Time Passes.csv\n",
      "Feature vector saved to: song_csv/Sam R Barber - As Time Passes.csv\n",
      "Processing song 41: BigXthaPlug - Mmhmm\n"
     ]
    },
    {
     "name": "stderr",
     "output_type": "stream",
     "text": [
      "[   INFO   ] MusicExtractor: Read metadata\n",
      "[   INFO   ] MusicExtractor: Compute md5 audio hash, codec, length, and EBU 128 loudness\n",
      "[   INFO   ] MusicExtractor: Replay gain\n",
      "[   INFO   ] MusicExtractor: Compute audio features\n",
      "[   INFO   ] MusicExtractor: Compute aggregation\n",
      "[   INFO   ] All done\n"
     ]
    },
    {
     "name": "stdout",
     "output_type": "stream",
     "text": [
      "Feature vector saved to: song_vector/BigXthaPlug - Mmhmm.csv\n",
      "Feature vector saved to: song_csv/BigXthaPlug - Mmhmm.csv\n",
      "Feature vector saved to: song_csv/BigXthaPlug - Mmhmm.csv\n",
      "Processing song 42: Wiz Khalifa - Young, Wild & Free (feat. Bruno Mars)\n"
     ]
    },
    {
     "name": "stderr",
     "output_type": "stream",
     "text": [
      "[   INFO   ] MusicExtractor: Read metadata\n",
      "[   INFO   ] MusicExtractor: Compute md5 audio hash, codec, length, and EBU 128 loudness\n",
      "[   INFO   ] MusicExtractor: Replay gain\n",
      "[   INFO   ] MusicExtractor: Compute audio features\n",
      "[   INFO   ] MusicExtractor: Compute aggregation\n",
      "[   INFO   ] All done\n"
     ]
    },
    {
     "name": "stdout",
     "output_type": "stream",
     "text": [
      "Feature vector saved to: song_vector/Wiz Khalifa - Young, Wild & Free (feat. Bruno Mars).csv\n",
      "Feature vector saved to: song_csv/Wiz Khalifa - Young, Wild & Free (feat. Bruno Mars).csv\n",
      "Feature vector saved to: song_csv/Wiz Khalifa - Young, Wild & Free (feat. Bruno Mars).csv\n",
      "Processing song 43: Shaboozey - Drink Dont Need No Mix (feat. BigXthaPlug)\n"
     ]
    },
    {
     "name": "stderr",
     "output_type": "stream",
     "text": [
      "[   INFO   ] MusicExtractor: Read metadata\n",
      "[   INFO   ] MusicExtractor: Compute md5 audio hash, codec, length, and EBU 128 loudness\n",
      "[   INFO   ] MusicExtractor: Replay gain\n",
      "[   INFO   ] MusicExtractor: Compute audio features\n",
      "[   INFO   ] MusicExtractor: Compute aggregation\n",
      "[   INFO   ] All done\n"
     ]
    },
    {
     "name": "stdout",
     "output_type": "stream",
     "text": [
      "Feature vector saved to: song_vector/Shaboozey - Drink Dont Need No Mix (feat. BigXthaPlug).csv\n",
      "Feature vector saved to: song_csv/Shaboozey - Drink Dont Need No Mix (feat. BigXthaPlug).csv\n",
      "Feature vector saved to: song_csv/Shaboozey - Drink Dont Need No Mix (feat. BigXthaPlug).csv\n",
      "Processing song 44: Nelly - Grillz (feat. Paul Wall, Ali & Gipp)\n"
     ]
    },
    {
     "name": "stderr",
     "output_type": "stream",
     "text": [
      "[   INFO   ] MusicExtractor: Read metadata\n",
      "[   INFO   ] MusicExtractor: Compute md5 audio hash, codec, length, and EBU 128 loudness\n",
      "[   INFO   ] MusicExtractor: Replay gain\n",
      "[   INFO   ] MusicExtractor: Compute audio features\n",
      "[   INFO   ] MusicExtractor: Compute aggregation\n",
      "[   INFO   ] All done\n"
     ]
    },
    {
     "name": "stdout",
     "output_type": "stream",
     "text": [
      "Feature vector saved to: song_vector/Nelly - Grillz (feat. Paul Wall, Ali & Gipp).csv\n",
      "Feature vector saved to: song_csv/Nelly - Grillz (feat. Paul Wall, Ali & Gipp).csv\n",
      "Feature vector saved to: song_csv/Nelly - Grillz (feat. Paul Wall, Ali & Gipp).csv\n",
      "Processing song 45: George Strait - All My Exs Live In Texas\n"
     ]
    },
    {
     "name": "stderr",
     "output_type": "stream",
     "text": [
      "[   INFO   ] MusicExtractor: Read metadata\n",
      "[   INFO   ] MusicExtractor: Compute md5 audio hash, codec, length, and EBU 128 loudness\n",
      "[   INFO   ] MusicExtractor: Replay gain\n",
      "[   INFO   ] MusicExtractor: Compute audio features\n",
      "[   INFO   ] MusicExtractor: Compute aggregation\n",
      "[   INFO   ] All done\n"
     ]
    },
    {
     "name": "stdout",
     "output_type": "stream",
     "text": [
      "Feature vector saved to: song_vector/George Strait - All My Exs Live In Texas.csv\n",
      "Feature vector saved to: song_csv/George Strait - All My Exs Live In Texas.csv\n",
      "Feature vector saved to: song_csv/George Strait - All My Exs Live In Texas.csv\n",
      "Processing song 46: Travis Scott - Antidote\n"
     ]
    },
    {
     "name": "stderr",
     "output_type": "stream",
     "text": [
      "[   INFO   ] MusicExtractor: Read metadata\n",
      "[   INFO   ] MusicExtractor: Compute md5 audio hash, codec, length, and EBU 128 loudness\n",
      "[   INFO   ] MusicExtractor: Replay gain\n",
      "[   INFO   ] MusicExtractor: Compute audio features\n",
      "[   INFO   ] MusicExtractor: Compute aggregation\n",
      "[   INFO   ] All done\n",
      "[   INFO   ] MusicExtractor: Read metadata\n",
      "[   INFO   ] MusicExtractor: Compute md5 audio hash, codec, length, and EBU 128 loudness\n",
      "[   INFO   ] MusicExtractor: Replay gain\n",
      "[   INFO   ] MusicExtractor: Compute audio features\n",
      "[   INFO   ] MusicExtractor: Compute aggregation\n",
      "[   INFO   ] All done\n"
     ]
    },
    {
     "name": "stdout",
     "output_type": "stream",
     "text": [
      "Feature vector saved to: song_vector/Travis Scott - Antidote.csv\n",
      "Feature vector saved to: song_csv/Travis Scott - Antidote.csv\n",
      "Feature vector saved to: song_csv/Travis Scott - Antidote.csv\n",
      "Processing song 47: Sam Barber - Straight and Narrow\n",
      "Feature vector saved to: song_vector/Sam Barber - Straight and Narrow.csv\n",
      "Feature vector saved to: song_csv/Sam Barber - Straight and Narrow.csv\n",
      "Feature vector saved to: song_csv/Sam Barber - Straight and Narrow.csv\n",
      "Processing song 48: NLE Choppa, BigXthaPlug - PISTOL PACCIN\n"
     ]
    },
    {
     "name": "stderr",
     "output_type": "stream",
     "text": [
      "[   INFO   ] MusicExtractor: Read metadata\n",
      "[   INFO   ] MusicExtractor: Compute md5 audio hash, codec, length, and EBU 128 loudness\n",
      "[   INFO   ] MusicExtractor: Replay gain\n",
      "[   INFO   ] MusicExtractor: Compute audio features\n",
      "[   INFO   ] MusicExtractor: Compute aggregation\n",
      "[   INFO   ] All done\n"
     ]
    },
    {
     "name": "stdout",
     "output_type": "stream",
     "text": [
      "Feature vector saved to: song_vector/NLE Choppa, BigXthaPlug - PISTOL PACCIN.csv\n",
      "Feature vector saved to: song_csv/NLE Choppa, BigXthaPlug - PISTOL PACCIN.csv\n",
      "Feature vector saved to: song_csv/NLE Choppa, BigXthaPlug - PISTOL PACCIN.csv\n",
      "Processing song 49: Tommy Richman - ACTIN UP\n"
     ]
    },
    {
     "name": "stderr",
     "output_type": "stream",
     "text": [
      "[   INFO   ] MusicExtractor: Read metadata\n",
      "[   INFO   ] MusicExtractor: Compute md5 audio hash, codec, length, and EBU 128 loudness\n",
      "[   INFO   ] MusicExtractor: Replay gain\n",
      "[   INFO   ] MusicExtractor: Compute audio features\n",
      "[   INFO   ] MusicExtractor: Compute aggregation\n",
      "[   INFO   ] All done\n"
     ]
    },
    {
     "name": "stdout",
     "output_type": "stream",
     "text": [
      "Feature vector saved to: song_vector/Tommy Richman - ACTIN UP.csv\n",
      "Feature vector saved to: song_csv/Tommy Richman - ACTIN UP.csv\n",
      "Feature vector saved to: song_csv/Tommy Richman - ACTIN UP.csv\n",
      "Processing song 50: Kate Bush - Running Up That Hill (A Deal With God) [2018 Remaster]\n"
     ]
    },
    {
     "name": "stderr",
     "output_type": "stream",
     "text": [
      "[   INFO   ] MusicExtractor: Read metadata\n",
      "[   INFO   ] MusicExtractor: Compute md5 audio hash, codec, length, and EBU 128 loudness\n",
      "[   INFO   ] MusicExtractor: Replay gain\n",
      "[   INFO   ] MusicExtractor: Compute audio features\n",
      "[   INFO   ] MusicExtractor: Compute aggregation\n",
      "[   INFO   ] All done\n"
     ]
    },
    {
     "name": "stdout",
     "output_type": "stream",
     "text": [
      "Feature vector saved to: song_vector/Kate Bush - Running Up That Hill (A Deal With God) [2018 Remaster].csv\n",
      "Feature vector saved to: song_csv/Kate Bush - Running Up That Hill (A Deal With God) [2018 Remaster].csv\n",
      "Feature vector saved to: song_csv/Kate Bush - Running Up That Hill (A Deal With God) [2018 Remaster].csv\n",
      "Processing song 51: Owen Wilson - Dont Give Up On Us\n"
     ]
    },
    {
     "name": "stderr",
     "output_type": "stream",
     "text": [
      "[   INFO   ] MusicExtractor: Read metadata\n",
      "[   INFO   ] MusicExtractor: Compute md5 audio hash, codec, length, and EBU 128 loudness\n",
      "[   INFO   ] MusicExtractor: Replay gain\n",
      "[   INFO   ] MusicExtractor: Compute audio features\n",
      "[   INFO   ] MusicExtractor: Compute aggregation\n",
      "[   INFO   ] All done\n"
     ]
    },
    {
     "name": "stdout",
     "output_type": "stream",
     "text": [
      "Feature vector saved to: song_vector/Owen Wilson - Dont Give Up On Us.csv\n",
      "Feature vector saved to: song_csv/Owen Wilson - Dont Give Up On Us.csv\n",
      "Feature vector saved to: song_csv/Owen Wilson - Dont Give Up On Us.csv\n",
      "Processing song 52: Billy Idol - White Wedding\n"
     ]
    },
    {
     "name": "stderr",
     "output_type": "stream",
     "text": [
      "[   INFO   ] MusicExtractor: Read metadata\n",
      "[   INFO   ] MusicExtractor: Compute md5 audio hash, codec, length, and EBU 128 loudness\n",
      "[   INFO   ] MusicExtractor: Replay gain\n",
      "[   INFO   ] MusicExtractor: Compute audio features\n",
      "[   INFO   ] MusicExtractor: Compute aggregation\n",
      "[   INFO   ] All done\n",
      "[   INFO   ] MusicExtractor: Read metadata\n"
     ]
    },
    {
     "name": "stdout",
     "output_type": "stream",
     "text": [
      "Feature vector saved to: song_vector/Billy Idol - White Wedding.csv\n",
      "Feature vector saved to: song_csv/Billy Idol - White Wedding.csv\n",
      "Feature vector saved to: song_csv/Billy Idol - White Wedding.csv\n",
      "Processing song 53: BigXthaPlug, Tommy Newport - Comes & Goes (feat. Tommy Newport)\n"
     ]
    },
    {
     "name": "stderr",
     "output_type": "stream",
     "text": [
      "[   INFO   ] MusicExtractor: Compute md5 audio hash, codec, length, and EBU 128 loudness\n",
      "[   INFO   ] MusicExtractor: Replay gain\n",
      "[   INFO   ] MusicExtractor: Compute audio features\n",
      "[   INFO   ] MusicExtractor: Compute aggregation\n",
      "[   INFO   ] All done\n",
      "[   INFO   ] MusicExtractor: Read metadata\n",
      "[   INFO   ] MusicExtractor: Compute md5 audio hash, codec, length, and EBU 128 loudness\n",
      "[   INFO   ] MusicExtractor: Replay gain\n",
      "[   INFO   ] MusicExtractor: Compute audio features\n",
      "[   INFO   ] MusicExtractor: Compute aggregation\n",
      "[   INFO   ] All done\n"
     ]
    },
    {
     "name": "stdout",
     "output_type": "stream",
     "text": [
      "Feature vector saved to: song_vector/BigXthaPlug, Tommy Newport - Comes & Goes (feat. Tommy Newport).csv\n",
      "Feature vector saved to: song_csv/BigXthaPlug, Tommy Newport - Comes & Goes (feat. Tommy Newport).csv\n",
      "Feature vector saved to: song_csv/BigXthaPlug, Tommy Newport - Comes & Goes (feat. Tommy Newport).csv\n",
      "Processing song 54: The Red Clay Strays - Wondering Why\n",
      "Feature vector saved to: song_vector/The Red Clay Strays - Wondering Why.csv\n",
      "Feature vector saved to: song_csv/The Red Clay Strays - Wondering Why.csv\n",
      "Feature vector saved to: song_csv/The Red Clay Strays - Wondering Why.csv\n",
      "Processing song 55: Billy Idol - Rebel Yell\n"
     ]
    },
    {
     "name": "stderr",
     "output_type": "stream",
     "text": [
      "[   INFO   ] MusicExtractor: Read metadata\n",
      "[   INFO   ] MusicExtractor: Compute md5 audio hash, codec, length, and EBU 128 loudness\n",
      "[   INFO   ] MusicExtractor: Replay gain\n",
      "[   INFO   ] MusicExtractor: Compute audio features\n",
      "[   INFO   ] MusicExtractor: Compute aggregation\n",
      "[   INFO   ] All done\n",
      "[   INFO   ] MusicExtractor: Read metadata\n",
      "[   INFO   ] MusicExtractor: Compute md5 audio hash, codec, length, and EBU 128 loudness\n",
      "[   INFO   ] MusicExtractor: Replay gain\n",
      "[   INFO   ] MusicExtractor: Compute audio features\n",
      "[   INFO   ] MusicExtractor: Compute aggregation\n",
      "[   INFO   ] All done\n"
     ]
    },
    {
     "name": "stdout",
     "output_type": "stream",
     "text": [
      "Feature vector saved to: song_vector/Billy Idol - Rebel Yell.csv\n",
      "Feature vector saved to: song_csv/Billy Idol - Rebel Yell.csv\n",
      "Feature vector saved to: song_csv/Billy Idol - Rebel Yell.csv\n",
      "Processing song 56: BigXthaPlug - Texas\n",
      "Feature vector saved to: song_vector/BigXthaPlug - Texas.csv\n",
      "Feature vector saved to: song_csv/BigXthaPlug - Texas.csv\n",
      "Feature vector saved to: song_csv/BigXthaPlug - Texas.csv\n",
      "Processing song 57: Rooga - GD Anthem\n"
     ]
    },
    {
     "name": "stderr",
     "output_type": "stream",
     "text": [
      "[   INFO   ] MusicExtractor: Read metadata\n",
      "[   INFO   ] MusicExtractor: Compute md5 audio hash, codec, length, and EBU 128 loudness\n",
      "[   INFO   ] MusicExtractor: Replay gain\n",
      "[   INFO   ] MusicExtractor: Compute audio features\n",
      "[   INFO   ] MusicExtractor: Compute aggregation\n",
      "[   INFO   ] All done\n"
     ]
    },
    {
     "name": "stdout",
     "output_type": "stream",
     "text": [
      "Feature vector saved to: song_vector/Rooga - GD Anthem.csv\n",
      "Feature vector saved to: song_csv/Rooga - GD Anthem.csv\n",
      "Feature vector saved to: song_csv/Rooga - GD Anthem.csv\n",
      "Processing song 58: Hippie Sabotage - Devil Eyes\n"
     ]
    },
    {
     "name": "stderr",
     "output_type": "stream",
     "text": [
      "[   INFO   ] MusicExtractor: Read metadata\n",
      "[   INFO   ] MusicExtractor: Compute md5 audio hash, codec, length, and EBU 128 loudness\n",
      "[   INFO   ] MusicExtractor: Replay gain\n",
      "[   INFO   ] MusicExtractor: Compute audio features\n",
      "[   INFO   ] MusicExtractor: Compute aggregation\n",
      "[   INFO   ] All done\n"
     ]
    },
    {
     "name": "stdout",
     "output_type": "stream",
     "text": [
      "Feature vector saved to: song_vector/Hippie Sabotage - Devil Eyes.csv\n",
      "Feature vector saved to: song_csv/Hippie Sabotage - Devil Eyes.csv\n",
      "Feature vector saved to: song_csv/Hippie Sabotage - Devil Eyes.csv\n",
      "Processing song 59: Dylan Gossett - Lone Ole Cowboy\n"
     ]
    },
    {
     "name": "stderr",
     "output_type": "stream",
     "text": [
      "[   INFO   ] MusicExtractor: Read metadata\n",
      "[   INFO   ] MusicExtractor: Compute md5 audio hash, codec, length, and EBU 128 loudness\n",
      "[   INFO   ] MusicExtractor: Replay gain\n",
      "[   INFO   ] MusicExtractor: Compute audio features\n",
      "[   INFO   ] MusicExtractor: Compute aggregation\n",
      "[   INFO   ] All done\n"
     ]
    },
    {
     "name": "stdout",
     "output_type": "stream",
     "text": [
      "Feature vector saved to: song_vector/Dylan Gossett - Lone Ole Cowboy.csv\n",
      "Feature vector saved to: song_csv/Dylan Gossett - Lone Ole Cowboy.csv\n",
      "Feature vector saved to: song_csv/Dylan Gossett - Lone Ole Cowboy.csv\n",
      "Processing song 61: Neil Young, Crazy Horse - Rockin in the Free World (Live)\n"
     ]
    },
    {
     "name": "stderr",
     "output_type": "stream",
     "text": [
      "[   INFO   ] MusicExtractor: Read metadata\n",
      "[   INFO   ] MusicExtractor: Compute md5 audio hash, codec, length, and EBU 128 loudness\n",
      "[   INFO   ] MusicExtractor: Replay gain\n",
      "[   INFO   ] MusicExtractor: Compute audio features\n",
      "[   INFO   ] MusicExtractor: Compute aggregation\n",
      "[   INFO   ] All done\n",
      "[   INFO   ] MusicExtractor: Read metadata\n",
      "[   INFO   ] MusicExtractor: Compute md5 audio hash, codec, length, and EBU 128 loudness\n",
      "[   INFO   ] MusicExtractor: Replay gain\n",
      "[   INFO   ] MusicExtractor: Compute audio features\n",
      "[   INFO   ] MusicExtractor: Compute aggregation\n",
      "[   INFO   ] All done\n"
     ]
    },
    {
     "name": "stdout",
     "output_type": "stream",
     "text": [
      "Feature vector saved to: song_vector/Neil Young, Crazy Horse - Rockin in the Free World (Live).csv\n",
      "Feature vector saved to: song_csv/Neil Young, Crazy Horse - Rockin in the Free World (Live).csv\n",
      "Feature vector saved to: song_csv/Neil Young, Crazy Horse - Rockin in the Free World (Live).csv\n",
      "Processing song 62: Bryce Vine - Drew Barrymore\n",
      "Feature vector saved to: song_vector/Bryce Vine - Drew Barrymore.csv\n",
      "Feature vector saved to: song_csv/Bryce Vine - Drew Barrymore.csv\n",
      "Feature vector saved to: song_csv/Bryce Vine - Drew Barrymore.csv\n",
      "Processing song 63: J. Cole, Bas - 1 0 0 . m i l ‘\n"
     ]
    },
    {
     "name": "stderr",
     "output_type": "stream",
     "text": [
      "[   INFO   ] MusicExtractor: Read metadata\n",
      "[   INFO   ] MusicExtractor: Compute md5 audio hash, codec, length, and EBU 128 loudness\n",
      "[   INFO   ] MusicExtractor: Replay gain\n",
      "[   INFO   ] MusicExtractor: Compute audio features\n",
      "[   INFO   ] MusicExtractor: Compute aggregation\n",
      "[   INFO   ] All done\n"
     ]
    },
    {
     "name": "stdout",
     "output_type": "stream",
     "text": [
      "Feature vector saved to: song_vector/J. Cole, Bas - 1 0 0 . m i l ‘.csv\n",
      "Feature vector saved to: song_csv/J. Cole, Bas - 1 0 0 . m i l ‘.csv\n",
      "Feature vector saved to: song_csv/J. Cole, Bas - 1 0 0 . m i l ‘.csv\n",
      "Processing song 65: Creed - One Last Breath\n"
     ]
    },
    {
     "name": "stderr",
     "output_type": "stream",
     "text": [
      "[   INFO   ] MusicExtractor: Read metadata\n",
      "[   INFO   ] MusicExtractor: Compute md5 audio hash, codec, length, and EBU 128 loudness\n",
      "[   INFO   ] MusicExtractor: Replay gain\n",
      "[   INFO   ] MusicExtractor: Compute audio features\n",
      "[   INFO   ] MusicExtractor: Compute aggregation\n",
      "[   INFO   ] All done\n",
      "[   INFO   ] MusicExtractor: Read metadata\n",
      "[   INFO   ] MusicExtractor: Compute md5 audio hash, codec, length, and EBU 128 loudness\n",
      "[   INFO   ] MusicExtractor: Replay gain\n",
      "[   INFO   ] MusicExtractor: Compute audio features\n",
      "[   INFO   ] MusicExtractor: Compute aggregation\n",
      "[   INFO   ] All done\n"
     ]
    },
    {
     "name": "stdout",
     "output_type": "stream",
     "text": [
      "Feature vector saved to: song_vector/Creed - One Last Breath.csv\n",
      "Feature vector saved to: song_csv/Creed - One Last Breath.csv\n",
      "Feature vector saved to: song_csv/Creed - One Last Breath.csv\n",
      "Processing song 66: BigXthaPlug - Active\n",
      "Feature vector saved to: song_vector/BigXthaPlug - Active.csv\n",
      "Feature vector saved to: song_csv/BigXthaPlug - Active.csv\n",
      "Feature vector saved to: song_csv/BigXthaPlug - Active.csv\n",
      "Processing song 67: Shaboozey - Good News\n"
     ]
    },
    {
     "name": "stderr",
     "output_type": "stream",
     "text": [
      "[   INFO   ] MusicExtractor: Read metadata\n",
      "[   INFO   ] MusicExtractor: Compute md5 audio hash, codec, length, and EBU 128 loudness\n",
      "[   INFO   ] MusicExtractor: Replay gain\n",
      "[   INFO   ] MusicExtractor: Compute audio features\n",
      "[   INFO   ] MusicExtractor: Compute aggregation\n",
      "[   INFO   ] All done\n",
      "[   INFO   ] MusicExtractor: Read metadata\n",
      "[   INFO   ] MusicExtractor: Compute md5 audio hash, codec, length, and EBU 128 loudness\n",
      "[   INFO   ] MusicExtractor: Replay gain\n",
      "[   INFO   ] MusicExtractor: Compute audio features\n",
      "[   INFO   ] MusicExtractor: Compute aggregation\n",
      "[   INFO   ] All done\n"
     ]
    },
    {
     "name": "stdout",
     "output_type": "stream",
     "text": [
      "Feature vector saved to: song_vector/Shaboozey - Good News.csv\n",
      "Feature vector saved to: song_csv/Shaboozey - Good News.csv\n",
      "Feature vector saved to: song_csv/Shaboozey - Good News.csv\n",
      "Processing song 68: G Tom Mac Aka Gerard McMahon - Cry Little Sister Original Demo\n",
      "Feature vector saved to: song_vector/G Tom Mac Aka Gerard McMahon - Cry Little Sister Original Demo.csv\n",
      "Feature vector saved to: song_csv/G Tom Mac Aka Gerard McMahon - Cry Little Sister Original Demo.csv\n",
      "Feature vector saved to: song_csv/G Tom Mac Aka Gerard McMahon - Cry Little Sister Original Demo.csv\n",
      "Processing song 69: Billy Idol - Rebel Yell\n"
     ]
    },
    {
     "name": "stderr",
     "output_type": "stream",
     "text": [
      "[   INFO   ] MusicExtractor: Read metadata\n",
      "[   INFO   ] MusicExtractor: Compute md5 audio hash, codec, length, and EBU 128 loudness\n",
      "[   INFO   ] MusicExtractor: Replay gain\n",
      "[   INFO   ] MusicExtractor: Compute audio features\n",
      "[   INFO   ] MusicExtractor: Compute aggregation\n",
      "[   INFO   ] All done\n"
     ]
    },
    {
     "name": "stdout",
     "output_type": "stream",
     "text": [
      "Feature vector saved to: song_vector/Billy Idol - Rebel Yell.csv\n",
      "Feature vector saved to: song_csv/Billy Idol - Rebel Yell.csv\n",
      "Feature vector saved to: song_csv/Billy Idol - Rebel Yell.csv\n",
      "Processing song 70: Buffalo Springfield - For What Its Worth\n"
     ]
    },
    {
     "name": "stderr",
     "output_type": "stream",
     "text": [
      "[   INFO   ] MusicExtractor: Read metadata\n",
      "[   INFO   ] MusicExtractor: Compute md5 audio hash, codec, length, and EBU 128 loudness\n",
      "[   INFO   ] MusicExtractor: Replay gain\n",
      "[   INFO   ] MusicExtractor: Compute audio features\n",
      "[   INFO   ] MusicExtractor: Compute aggregation\n",
      "[   INFO   ] All done\n",
      "[   INFO   ] MusicExtractor: Read metadata\n",
      "[   INFO   ] MusicExtractor: Compute md5 audio hash, codec, length, and EBU 128 loudness\n",
      "[   INFO   ] MusicExtractor: Replay gain\n",
      "[   INFO   ] MusicExtractor: Compute audio features\n",
      "[   INFO   ] MusicExtractor: Compute aggregation\n",
      "[   INFO   ] All done\n"
     ]
    },
    {
     "name": "stdout",
     "output_type": "stream",
     "text": [
      "Feature vector saved to: song_vector/Buffalo Springfield - For What Its Worth.csv\n",
      "Feature vector saved to: song_csv/Buffalo Springfield - For What Its Worth.csv\n",
      "Feature vector saved to: song_csv/Buffalo Springfield - For What Its Worth.csv\n",
      "Processing song 72: The Red Clay Strays - Im Still Fine\n",
      "Feature vector saved to: song_vector/The Red Clay Strays - Im Still Fine.csv\n",
      "Feature vector saved to: song_csv/The Red Clay Strays - Im Still Fine.csv\n",
      "Feature vector saved to: song_csv/The Red Clay Strays - Im Still Fine.csv\n",
      "Processing song 73: Drake - Laugh Now Cry Later (feat. Lil Durk)\n"
     ]
    },
    {
     "name": "stderr",
     "output_type": "stream",
     "text": [
      "[   INFO   ] MusicExtractor: Read metadata\n",
      "[   INFO   ] MusicExtractor: Compute md5 audio hash, codec, length, and EBU 128 loudness\n",
      "[   INFO   ] MusicExtractor: Replay gain\n",
      "[   INFO   ] MusicExtractor: Compute audio features\n",
      "[   INFO   ] MusicExtractor: Compute aggregation\n",
      "[   INFO   ] All done\n"
     ]
    },
    {
     "name": "stdout",
     "output_type": "stream",
     "text": [
      "Feature vector saved to: song_vector/Drake - Laugh Now Cry Later (feat. Lil Durk).csv\n",
      "Feature vector saved to: song_csv/Drake - Laugh Now Cry Later (feat. Lil Durk).csv\n",
      "Feature vector saved to: song_csv/Drake - Laugh Now Cry Later (feat. Lil Durk).csv\n",
      "Processing song 74: The Doors - People Are Strange (New Stereo Mix)\n"
     ]
    },
    {
     "name": "stderr",
     "output_type": "stream",
     "text": [
      "[   INFO   ] MusicExtractor: Read metadata\n",
      "[   INFO   ] MusicExtractor: Compute md5 audio hash, codec, length, and EBU 128 loudness\n",
      "[   INFO   ] MusicExtractor: Replay gain\n",
      "[   INFO   ] MusicExtractor: Compute audio features\n",
      "[   INFO   ] MusicExtractor: Compute aggregation\n",
      "[   INFO   ] All done\n"
     ]
    },
    {
     "name": "stdout",
     "output_type": "stream",
     "text": [
      "Feature vector saved to: song_vector/The Doors - People Are Strange (New Stereo Mix).csv\n",
      "Feature vector saved to: song_csv/The Doors - People Are Strange (New Stereo Mix).csv\n",
      "Feature vector saved to: song_csv/The Doors - People Are Strange (New Stereo Mix).csv\n",
      "Processing song 75: Russ - ITALY\n"
     ]
    },
    {
     "name": "stderr",
     "output_type": "stream",
     "text": [
      "[   INFO   ] MusicExtractor: Read metadata\n",
      "[   INFO   ] MusicExtractor: Compute md5 audio hash, codec, length, and EBU 128 loudness\n",
      "[   INFO   ] MusicExtractor: Replay gain\n",
      "[   INFO   ] MusicExtractor: Compute audio features\n",
      "[   INFO   ] MusicExtractor: Compute aggregation\n",
      "[   INFO   ] All done\n",
      "[   INFO   ] MusicExtractor: Read metadata\n"
     ]
    },
    {
     "name": "stdout",
     "output_type": "stream",
     "text": [
      "Feature vector saved to: song_vector/Russ - ITALY.csv\n",
      "Feature vector saved to: song_csv/Russ - ITALY.csv\n",
      "Feature vector saved to: song_csv/Russ - ITALY.csv\n",
      "Processing song 76: Paul McCartney, Wings - Band On The Run\n"
     ]
    },
    {
     "name": "stderr",
     "output_type": "stream",
     "text": [
      "[   INFO   ] MusicExtractor: Compute md5 audio hash, codec, length, and EBU 128 loudness\n",
      "[   INFO   ] MusicExtractor: Replay gain\n",
      "[   INFO   ] MusicExtractor: Compute audio features\n",
      "[   INFO   ] MusicExtractor: Compute aggregation\n",
      "[   INFO   ] All done\n",
      "[   INFO   ] MusicExtractor: Read metadata\n",
      "[   INFO   ] MusicExtractor: Compute md5 audio hash, codec, length, and EBU 128 loudness\n",
      "[   INFO   ] MusicExtractor: Replay gain\n",
      "[   INFO   ] MusicExtractor: Compute audio features\n",
      "[   INFO   ] MusicExtractor: Compute aggregation\n",
      "[   INFO   ] All done\n"
     ]
    },
    {
     "name": "stdout",
     "output_type": "stream",
     "text": [
      "Feature vector saved to: song_vector/Paul McCartney, Wings - Band On The Run.csv\n",
      "Feature vector saved to: song_csv/Paul McCartney, Wings - Band On The Run.csv\n",
      "Feature vector saved to: song_csv/Paul McCartney, Wings - Band On The Run.csv\n",
      "Processing song 77: The Kid LAROI - BABY IM BACK\n",
      "Feature vector saved to: song_vector/The Kid LAROI - BABY IM BACK.csv\n",
      "Feature vector saved to: song_csv/The Kid LAROI - BABY IM BACK.csv\n",
      "Feature vector saved to: song_csv/The Kid LAROI - BABY IM BACK.csv\n",
      "Processing song 78: JAY Z, Kanye West - Ni**as In Paris\n"
     ]
    },
    {
     "name": "stderr",
     "output_type": "stream",
     "text": [
      "[   INFO   ] MusicExtractor: Read metadata\n",
      "[   INFO   ] MusicExtractor: Compute md5 audio hash, codec, length, and EBU 128 loudness\n",
      "[   INFO   ] MusicExtractor: Replay gain\n",
      "[   INFO   ] MusicExtractor: Compute audio features\n",
      "[   INFO   ] MusicExtractor: Compute aggregation\n",
      "[   INFO   ] All done\n"
     ]
    },
    {
     "name": "stdout",
     "output_type": "stream",
     "text": [
      "Feature vector saved to: song_vector/JAY Z, Kanye West - Ni**as In Paris.csv\n",
      "Feature vector saved to: song_csv/JAY Z, Kanye West - Ni**as In Paris.csv\n",
      "Feature vector saved to: song_csv/JAY Z, Kanye West - Ni**as In Paris.csv\n",
      "Processing song 79: The Beatles - Here Comes The Sun\n"
     ]
    },
    {
     "name": "stderr",
     "output_type": "stream",
     "text": [
      "[   INFO   ] MusicExtractor: Read metadata\n",
      "[   INFO   ] MusicExtractor: Compute md5 audio hash, codec, length, and EBU 128 loudness\n",
      "[   INFO   ] MusicExtractor: Replay gain\n",
      "[   INFO   ] MusicExtractor: Compute audio features\n",
      "[   INFO   ] MusicExtractor: Compute aggregation\n",
      "[   INFO   ] All done\n"
     ]
    },
    {
     "name": "stdout",
     "output_type": "stream",
     "text": [
      "Feature vector saved to: song_vector/The Beatles - Here Comes The Sun.csv\n",
      "Feature vector saved to: song_csv/The Beatles - Here Comes The Sun.csv\n",
      "Feature vector saved to: song_csv/The Beatles - Here Comes The Sun.csv\n",
      "Processing song 80: Elton John - Goodbye Yellow Brick Road\n"
     ]
    },
    {
     "name": "stderr",
     "output_type": "stream",
     "text": [
      "[   INFO   ] MusicExtractor: Read metadata\n",
      "[   INFO   ] MusicExtractor: Compute md5 audio hash, codec, length, and EBU 128 loudness\n",
      "[   INFO   ] MusicExtractor: Replay gain\n",
      "[   INFO   ] MusicExtractor: Compute audio features\n",
      "[   INFO   ] MusicExtractor: Compute aggregation\n",
      "[   INFO   ] All done\n"
     ]
    },
    {
     "name": "stdout",
     "output_type": "stream",
     "text": [
      "Feature vector saved to: song_vector/Elton John - Goodbye Yellow Brick Road.csv\n",
      "Feature vector saved to: song_csv/Elton John - Goodbye Yellow Brick Road.csv\n",
      "Feature vector saved to: song_csv/Elton John - Goodbye Yellow Brick Road.csv\n",
      "Processing song 81: The Clash - London Calling\n",
      "Feature vector saved to: song_vector/The Clash - London Calling.csv\n",
      "Feature vector saved to: song_csv/The Clash - London Calling.csv\n",
      "Feature vector saved to: song_csv/The Clash - London Calling.csv\n"
     ]
    },
    {
     "name": "stderr",
     "output_type": "stream",
     "text": [
      "[   INFO   ] MusicExtractor: Read metadata\n",
      "[   INFO   ] MusicExtractor: Compute md5 audio hash, codec, length, and EBU 128 loudness\n",
      "[   INFO   ] MusicExtractor: Replay gain\n",
      "[   INFO   ] MusicExtractor: Compute audio features\n",
      "[   INFO   ] MusicExtractor: Compute aggregation\n",
      "[   INFO   ] All done\n"
     ]
    }
   ],
   "source": [
    "if __name__ == \"__main__\":\n",
    "    # path to csv\n",
    "    csv_file = \"BARKBARKWOOF_RIBBIT.csv\" \n",
    "\n",
    "    input_dim = 72\n",
    "    hidden_dim = 128\n",
    "    output_dim = 128\n",
    "    encoder = SongEncoder(input_dim, hidden_dim, output_dim)\n",
    "\n",
    "    # idk wtf this does lol\n",
    "    model_path = \"song_encoder.pth\"\n",
    "    if os.path.exists(model_path):\n",
    "        encoder.load_state_dict(torch.load(model_path, weights_only=True))\n",
    "        encoder.eval()\n",
    "        print(f\"Loaded pre-trained encoder from {model_path}\")\n",
    "\n",
    "    # use goat function and boom boom done (make sure to download songs in spotdl.ipynb first)\n",
    "    mass_encoder(csv_file=csv_file, encoder=encoder)\n",
    "\n",
    "    # save the encoder (only for the small model)\n",
    "    # torch.save(encoder.state_dict(), \"song_encoder.pth\")"
   ]
  },
  {
   "cell_type": "code",
   "execution_count": null,
   "metadata": {},
   "outputs": [],
   "source": []
  }
 ],
 "metadata": {
  "kernelspec": {
   "display_name": "ai",
   "language": "python",
   "name": "python3"
  },
  "language_info": {
   "codemirror_mode": {
    "name": "ipython",
    "version": 3
   },
   "file_extension": ".py",
   "mimetype": "text/x-python",
   "name": "python",
   "nbconvert_exporter": "python",
   "pygments_lexer": "ipython3",
   "version": "3.8.20"
  }
 },
 "nbformat": 4,
 "nbformat_minor": 2
}
